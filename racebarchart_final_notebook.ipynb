{
 "cells": [
  {
   "attachments": {},
   "cell_type": "markdown",
   "metadata": {},
   "source": [
    "# Testing Python Visualization Functionality\n",
    "Notebook builds a racing barchart using the racely library. Data used is taken from the World Bank website and wrangled into the proper format for the chart."
   ]
  },
  {
   "attachments": {},
   "cell_type": "markdown",
   "metadata": {},
   "source": [
    "## Initial Data Wrangling"
   ]
  },
  {
   "cell_type": "code",
   "execution_count": 1,
   "metadata": {},
   "outputs": [
    {
     "name": "stdout",
     "output_type": "stream",
     "text": [
      "  Country Name  Year        Value\n",
      "0   Azerbaijan  1993  209.4785718\n",
      "1      Armenia  1993  347.4664633\n",
      "2      Belarus  1993  1590.088117\n",
      "3   Kazakhstan  1993  1429.078177\n",
      "4      Moldova  1993           ..\n"
     ]
    }
   ],
   "source": [
    "import pandas as pd\n",
    "\n",
    "# Load the dataset\n",
    "raw_file_path = # Your file path here for raw data\n",
    "df = pd.read_csv(file_path) \n",
    "\n",
    "# Wrangle data\n",
    "df_melted = pd.melt(df, id_vars=['Country Name'], var_name='Year', value_name='Value')\n",
    "\n",
    "# Print the first few rows of the melted DataFrame\n",
    "print(df_melted.head())"
   ]
  },
  {
   "attachments": {},
   "cell_type": "markdown",
   "metadata": {},
   "source": [
    "## Reupload Data and Perform Analysis\n",
    "I inspected the data in Excel before continuing on so this step may be entirely unnecessary"
   ]
  },
  {
   "cell_type": "code",
   "execution_count": 4,
   "metadata": {},
   "outputs": [],
   "source": [
    "import pandas as pd\n",
    "from raceplotly.plots import barplot\n",
    "\n",
    "file_path = # your cleaned data\n",
    "data = pd.read_csv()"
   ]
  },
  {
   "cell_type": "code",
   "execution_count": 5,
   "metadata": {},
   "outputs": [
    {
     "data": {
      "text/html": [
       "<div>\n",
       "<style scoped>\n",
       "    .dataframe tbody tr th:only-of-type {\n",
       "        vertical-align: middle;\n",
       "    }\n",
       "\n",
       "    .dataframe tbody tr th {\n",
       "        vertical-align: top;\n",
       "    }\n",
       "\n",
       "    .dataframe thead th {\n",
       "        text-align: right;\n",
       "    }\n",
       "</style>\n",
       "<table border=\"1\" class=\"dataframe\">\n",
       "  <thead>\n",
       "    <tr style=\"text-align: right;\">\n",
       "      <th></th>\n",
       "      <th>Country Name</th>\n",
       "      <th>Year</th>\n",
       "      <th>Per Capita GDP</th>\n",
       "    </tr>\n",
       "  </thead>\n",
       "  <tbody>\n",
       "    <tr>\n",
       "      <th>0</th>\n",
       "      <td>Azerbaijan</td>\n",
       "      <td>1993</td>\n",
       "      <td>209.478572</td>\n",
       "    </tr>\n",
       "    <tr>\n",
       "      <th>1</th>\n",
       "      <td>Armenia</td>\n",
       "      <td>1993</td>\n",
       "      <td>347.466463</td>\n",
       "    </tr>\n",
       "    <tr>\n",
       "      <th>2</th>\n",
       "      <td>Belarus</td>\n",
       "      <td>1993</td>\n",
       "      <td>1590.088117</td>\n",
       "    </tr>\n",
       "    <tr>\n",
       "      <th>3</th>\n",
       "      <td>Kazakhstan</td>\n",
       "      <td>1993</td>\n",
       "      <td>1429.078177</td>\n",
       "    </tr>\n",
       "    <tr>\n",
       "      <th>4</th>\n",
       "      <td>Moldova</td>\n",
       "      <td>1993</td>\n",
       "      <td>0.000000</td>\n",
       "    </tr>\n",
       "    <tr>\n",
       "      <th>...</th>\n",
       "      <td>...</td>\n",
       "      <td>...</td>\n",
       "      <td>...</td>\n",
       "    </tr>\n",
       "    <tr>\n",
       "      <th>256</th>\n",
       "      <td>Moldova</td>\n",
       "      <td>2021</td>\n",
       "      <td>5230.661733</td>\n",
       "    </tr>\n",
       "    <tr>\n",
       "      <th>257</th>\n",
       "      <td>Kyrgyz Republic</td>\n",
       "      <td>2021</td>\n",
       "      <td>1276.700365</td>\n",
       "    </tr>\n",
       "    <tr>\n",
       "      <th>258</th>\n",
       "      <td>Tajikistan</td>\n",
       "      <td>2021</td>\n",
       "      <td>897.047510</td>\n",
       "    </tr>\n",
       "    <tr>\n",
       "      <th>259</th>\n",
       "      <td>Turkmenistan</td>\n",
       "      <td>2021</td>\n",
       "      <td>0.000000</td>\n",
       "    </tr>\n",
       "    <tr>\n",
       "      <th>260</th>\n",
       "      <td>Uzbekistan</td>\n",
       "      <td>2021</td>\n",
       "      <td>1983.064723</td>\n",
       "    </tr>\n",
       "  </tbody>\n",
       "</table>\n",
       "<p>261 rows × 3 columns</p>\n",
       "</div>"
      ],
      "text/plain": [
       "        Country Name  Year  Per Capita GDP\n",
       "0         Azerbaijan  1993      209.478572\n",
       "1            Armenia  1993      347.466463\n",
       "2            Belarus  1993     1590.088117\n",
       "3         Kazakhstan  1993     1429.078177\n",
       "4            Moldova  1993        0.000000\n",
       "..               ...   ...             ...\n",
       "256          Moldova  2021     5230.661733\n",
       "257  Kyrgyz Republic  2021     1276.700365\n",
       "258       Tajikistan  2021      897.047510\n",
       "259     Turkmenistan  2021        0.000000\n",
       "260       Uzbekistan  2021     1983.064723\n",
       "\n",
       "[261 rows x 3 columns]"
      ]
     },
     "execution_count": 5,
     "metadata": {},
     "output_type": "execute_result"
    }
   ],
   "source": [
    "data"
   ]
  },
  {
   "attachments": {},
   "cell_type": "markdown",
   "metadata": {},
   "source": [
    "## Visualizations"
   ]
  },
  {
   "attachments": {},
   "cell_type": "markdown",
   "metadata": {},
   "source": [
    "I ran an intial test to see racely's functionality and default formatting"
   ]
  },
  {
   "cell_type": "code",
   "execution_count": 7,
   "metadata": {},
   "outputs": [
    {
     "data": {
      "application/vnd.plotly.v1+json": {
       "config": {
        "plotlyServerURL": "https://plot.ly"
       },
       "data": [
        {
         "cliponaxis": false,
         "hoverinfo": "all",
         "marker": {
          "color": [
           "rgb(182, 19, 216)",
           "rgb(114, 221, 180)",
           "rgb(250, 228, 57)",
           "rgb(85, 160, 240)",
           "rgb(166, 248, 152)",
           "rgb(216, 249, 131)",
           "rgb(49, 76, 77)",
           "rgb(147, 72, 61)",
           "rgb(20, 71, 250)"
          ]
         },
         "orientation": "h",
         "textangle": 0,
         "textposition": "outside",
         "texttemplate": "%{y}<br>%{x:.4s}",
         "type": "bar",
         "x": [
          0,
          209.4785718,
          287.5798132,
          347.4664633,
          449.0657902,
          596.9835856,
          788.5575627,
          1429.078177,
          1590.088117
         ],
         "y": [
          "Moldova",
          "Azerbaijan",
          "Tajikistan",
          "Armenia",
          "Kyrgyz Republic",
          "Uzbekistan",
          "Turkmenistan",
          "Kazakhstan",
          "Belarus"
         ]
        }
       ],
       "frames": [
        {
         "data": [
          {
           "cliponaxis": false,
           "hoverinfo": "all",
           "hovertemplate": "<extra></extra>",
           "marker": {
            "color": [
             "rgb(182, 19, 216)",
             "rgb(114, 221, 180)",
             "rgb(250, 228, 57)",
             "rgb(85, 160, 240)",
             "rgb(166, 248, 152)",
             "rgb(216, 249, 131)",
             "rgb(49, 76, 77)",
             "rgb(147, 72, 61)",
             "rgb(20, 71, 250)"
            ]
           },
           "orientation": "h",
           "textangle": 0,
           "textposition": "outside",
           "texttemplate": "%{y}<br>%{x:.4s}",
           "type": "bar",
           "x": [
            0,
            209.4785718,
            287.5798132,
            347.4664633,
            449.0657902,
            596.9835856,
            788.5575627,
            1429.078177,
            1590.088117
           ],
           "y": [
            "Moldova",
            "Azerbaijan",
            "Tajikistan",
            "Armenia",
            "Kyrgyz Republic",
            "Uzbekistan",
            "Turkmenistan",
            "Kazakhstan",
            "Belarus"
           ]
          }
         ],
         "layout": {
          "bargap": 0.15,
          "font": {
           "size": 14
          },
          "plot_bgcolor": "#FFFFFF",
          "xaxis": {
           "range": [
            0,
            13890.63096
           ],
           "showline": true,
           "visible": true
          },
          "yaxis": {
           "showline": false,
           "visible": true
          }
         },
         "name": "1993"
        },
        {
         "data": [
          {
           "cliponaxis": false,
           "hoverinfo": "all",
           "hovertemplate": "<extra></extra>",
           "marker": {
            "color": [
             "rgb(182, 19, 216)",
             "rgb(114, 221, 180)",
             "rgb(250, 228, 57)",
             "rgb(166, 248, 152)",
             "rgb(85, 160, 240)",
             "rgb(216, 249, 131)",
             "rgb(49, 76, 77)",
             "rgb(147, 72, 61)",
             "rgb(20, 71, 250)"
            ]
           },
           "orientation": "h",
           "textangle": 0,
           "textposition": "outside",
           "texttemplate": "%{y}<br>%{x:.4s}",
           "type": "bar",
           "x": [
            0,
            157.0860591,
            261.6813963,
            372.30781,
            389.8252865,
            576.4471105,
            619.6698961,
            1316.183629,
            1460.0655
           ],
           "y": [
            "Moldova",
            "Azerbaijan",
            "Tajikistan",
            "Kyrgyz Republic",
            "Armenia",
            "Uzbekistan",
            "Turkmenistan",
            "Kazakhstan",
            "Belarus"
           ]
          }
         ],
         "layout": {
          "bargap": 0.15,
          "font": {
           "size": 14
          },
          "plot_bgcolor": "#FFFFFF",
          "xaxis": {
           "range": [
            0,
            13890.63096
           ],
           "showline": true,
           "visible": true
          },
          "yaxis": {
           "showline": false,
           "visible": true
          }
         },
         "name": "1994"
        },
        {
         "data": [
          {
           "cliponaxis": false,
           "hoverinfo": "all",
           "hovertemplate": "<extra></extra>",
           "marker": {
            "color": [
             "rgb(250, 228, 57)",
             "rgb(114, 221, 180)",
             "rgb(166, 248, 152)",
             "rgb(85, 160, 240)",
             "rgb(216, 249, 131)",
             "rgb(49, 76, 77)",
             "rgb(182, 19, 216)",
             "rgb(147, 72, 61)",
             "rgb(20, 71, 250)"
            ]
           },
           "orientation": "h",
           "textangle": 0,
           "textposition": "outside",
           "texttemplate": "%{y}<br>%{x:.4s}",
           "type": "bar",
           "x": [
            208.0805555,
            314.5612263,
            364.2264974,
            441.8940018,
            585.9323642,
            587.2840894,
            593.586593,
            1288.188519,
            1370.699283
           ],
           "y": [
            "Tajikistan",
            "Azerbaijan",
            "Kyrgyz Republic",
            "Armenia",
            "Uzbekistan",
            "Turkmenistan",
            "Moldova",
            "Kazakhstan",
            "Belarus"
           ]
          }
         ],
         "layout": {
          "bargap": 0.15,
          "font": {
           "size": 14
          },
          "plot_bgcolor": "#FFFFFF",
          "xaxis": {
           "range": [
            0,
            13890.63096
           ],
           "showline": true,
           "visible": true
          },
          "yaxis": {
           "showline": false,
           "visible": true
          }
         },
         "name": "1995"
        },
        {
         "data": [
          {
           "cliponaxis": false,
           "hoverinfo": "all",
           "hovertemplate": "<extra></extra>",
           "marker": {
            "color": [
             "rgb(250, 228, 57)",
             "rgb(166, 248, 152)",
             "rgb(114, 221, 180)",
             "rgb(85, 160, 240)",
             "rgb(49, 76, 77)",
             "rgb(182, 19, 216)",
             "rgb(216, 249, 131)",
             "rgb(147, 72, 61)",
             "rgb(20, 71, 250)"
            ]
           },
           "orientation": "h",
           "textangle": 0,
           "textposition": "outside",
           "texttemplate": "%{y}<br>%{x:.4s}",
           "type": "bar",
           "x": [
            172.9164992,
            394.8601215,
            409.1631891,
            484.091641,
            553.0594143,
            575.1454551,
            600.5981578,
            1350.30567,
            1452.507105
           ],
           "y": [
            "Tajikistan",
            "Kyrgyz Republic",
            "Azerbaijan",
            "Armenia",
            "Turkmenistan",
            "Moldova",
            "Uzbekistan",
            "Kazakhstan",
            "Belarus"
           ]
          }
         ],
         "layout": {
          "bargap": 0.15,
          "font": {
           "size": 14
          },
          "plot_bgcolor": "#FFFFFF",
          "xaxis": {
           "range": [
            0,
            13890.63096
           ],
           "showline": true,
           "visible": true
          },
          "yaxis": {
           "showline": false,
           "visible": true
          }
         },
         "name": "1996"
        },
        {
         "data": [
          {
           "cliponaxis": false,
           "hoverinfo": "all",
           "hovertemplate": "<extra></extra>",
           "marker": {
            "color": [
             "rgb(250, 228, 57)",
             "rgb(166, 248, 152)",
             "rgb(85, 160, 240)",
             "rgb(114, 221, 180)",
             "rgb(49, 76, 77)",
             "rgb(216, 249, 131)",
             "rgb(182, 19, 216)",
             "rgb(20, 71, 250)",
             "rgb(147, 72, 61)"
            ]
           },
           "orientation": "h",
           "textangle": 0,
           "textposition": "outside",
           "texttemplate": "%{y}<br>%{x:.4s}",
           "type": "bar",
           "x": [
            150.6558312,
            376.4296133,
            501.1565152,
            505.5003493,
            561.533872,
            623.0026524,
            657.2921346,
            1396.442019,
            1445.503237
           ],
           "y": [
            "Tajikistan",
            "Kyrgyz Republic",
            "Armenia",
            "Azerbaijan",
            "Turkmenistan",
            "Uzbekistan",
            "Moldova",
            "Belarus",
            "Kazakhstan"
           ]
          }
         ],
         "layout": {
          "bargap": 0.15,
          "font": {
           "size": 14
          },
          "plot_bgcolor": "#FFFFFF",
          "xaxis": {
           "range": [
            0,
            13890.63096
           ],
           "showline": true,
           "visible": true
          },
          "yaxis": {
           "showline": false,
           "visible": true
          }
         },
         "name": "1997"
        },
        {
         "data": [
          {
           "cliponaxis": false,
           "hoverinfo": "all",
           "hovertemplate": "<extra></extra>",
           "marker": {
            "color": [
             "rgb(250, 228, 57)",
             "rgb(166, 248, 152)",
             "rgb(114, 221, 180)",
             "rgb(182, 19, 216)",
             "rgb(85, 160, 240)",
             "rgb(49, 76, 77)",
             "rgb(216, 249, 131)",
             "rgb(147, 72, 61)",
             "rgb(20, 71, 250)"
            ]
           },
           "orientation": "h",
           "textangle": 0,
           "textposition": "outside",
           "texttemplate": "%{y}<br>%{x:.4s}",
           "type": "bar",
           "x": [
            214.4362345,
            345.1381316,
            561.9068079,
            578.7346276,
            584.3842673,
            587.9900867,
            623.2161328,
            1468.669291,
            1511.325316
           ],
           "y": [
            "Tajikistan",
            "Kyrgyz Republic",
            "Azerbaijan",
            "Moldova",
            "Armenia",
            "Turkmenistan",
            "Uzbekistan",
            "Kazakhstan",
            "Belarus"
           ]
          }
         ],
         "layout": {
          "bargap": 0.15,
          "font": {
           "size": 14
          },
          "plot_bgcolor": "#FFFFFF",
          "xaxis": {
           "range": [
            0,
            13890.63096
           ],
           "showline": true,
           "visible": true
          },
          "yaxis": {
           "showline": false,
           "visible": true
          }
         },
         "name": "1998"
        },
        {
         "data": [
          {
           "cliponaxis": false,
           "hoverinfo": "all",
           "hovertemplate": "<extra></extra>",
           "marker": {
            "color": [
             "rgb(250, 228, 57)",
             "rgb(166, 248, 152)",
             "rgb(182, 19, 216)",
             "rgb(49, 76, 77)",
             "rgb(114, 221, 180)",
             "rgb(85, 160, 240)",
             "rgb(216, 249, 131)",
             "rgb(147, 72, 61)",
             "rgb(20, 71, 250)"
            ]
           },
           "orientation": "h",
           "textangle": 0,
           "textposition": "outside",
           "texttemplate": "%{y}<br>%{x:.4s}",
           "type": "bar",
           "x": [
            175.5543835,
            258.0492288,
            399.4998186,
            544.4393372,
            573.9165123,
            575.6284792,
            702.4807441,
            1130.117844,
            1210.61172
           ],
           "y": [
            "Tajikistan",
            "Kyrgyz Republic",
            "Moldova",
            "Turkmenistan",
            "Azerbaijan",
            "Armenia",
            "Uzbekistan",
            "Kazakhstan",
            "Belarus"
           ]
          }
         ],
         "layout": {
          "bargap": 0.15,
          "font": {
           "size": 14
          },
          "plot_bgcolor": "#FFFFFF",
          "xaxis": {
           "range": [
            0,
            13890.63096
           ],
           "showline": true,
           "visible": true
          },
          "yaxis": {
           "showline": false,
           "visible": true
          }
         },
         "name": "1999"
        },
        {
         "data": [
          {
           "cliponaxis": false,
           "hoverinfo": "all",
           "hovertemplate": "<extra></extra>",
           "marker": {
            "color": [
             "rgb(250, 228, 57)",
             "rgb(166, 248, 152)",
             "rgb(182, 19, 216)",
             "rgb(216, 249, 131)",
             "rgb(85, 160, 240)",
             "rgb(49, 76, 77)",
             "rgb(114, 221, 180)",
             "rgb(147, 72, 61)",
             "rgb(20, 71, 250)"
            ]
           },
           "orientation": "h",
           "textangle": 0,
           "textposition": "outside",
           "texttemplate": "%{y}<br>%{x:.4s}",
           "type": "bar",
           "x": [
            137.1786057,
            279.6195693,
            440.538684,
            558.2268024,
            603.2980252,
            635.7143118,
            655.1199452,
            1229.001247,
            1276.288034
           ],
           "y": [
            "Tajikistan",
            "Kyrgyz Republic",
            "Moldova",
            "Uzbekistan",
            "Armenia",
            "Turkmenistan",
            "Azerbaijan",
            "Kazakhstan",
            "Belarus"
           ]
          }
         ],
         "layout": {
          "bargap": 0.15,
          "font": {
           "size": 14
          },
          "plot_bgcolor": "#FFFFFF",
          "xaxis": {
           "range": [
            0,
            13890.63096
           ],
           "showline": true,
           "visible": true
          },
          "yaxis": {
           "showline": false,
           "visible": true
          }
         },
         "name": "2000"
        },
        {
         "data": [
          {
           "cliponaxis": false,
           "hoverinfo": "all",
           "hovertemplate": "<extra></extra>",
           "marker": {
            "color": [
             "rgb(250, 228, 57)",
             "rgb(166, 248, 152)",
             "rgb(216, 249, 131)",
             "rgb(182, 19, 216)",
             "rgb(85, 160, 240)",
             "rgb(114, 221, 180)",
             "rgb(49, 76, 77)",
             "rgb(20, 71, 250)",
             "rgb(147, 72, 61)"
            ]
           },
           "orientation": "h",
           "textangle": 0,
           "textposition": "outside",
           "texttemplate": "%{y}<br>%{x:.4s}",
           "type": "bar",
           "x": [
            168.6380009,
            308.4096116,
            456.7062895,
            507.4040763,
            676.1500113,
            703.6838434,
            762.6175265,
            1244.373185,
            1490.92709
           ],
           "y": [
            "Tajikistan",
            "Kyrgyz Republic",
            "Uzbekistan",
            "Moldova",
            "Armenia",
            "Azerbaijan",
            "Turkmenistan",
            "Belarus",
            "Kazakhstan"
           ]
          }
         ],
         "layout": {
          "bargap": 0.15,
          "font": {
           "size": 14
          },
          "plot_bgcolor": "#FFFFFF",
          "xaxis": {
           "range": [
            0,
            13890.63096
           ],
           "showline": true,
           "visible": true
          },
          "yaxis": {
           "showline": false,
           "visible": true
          }
         },
         "name": "2001"
        },
        {
         "data": [
          {
           "cliponaxis": false,
           "hoverinfo": "all",
           "hovertemplate": "<extra></extra>",
           "marker": {
            "color": [
             "rgb(250, 228, 57)",
             "rgb(166, 248, 152)",
             "rgb(216, 249, 131)",
             "rgb(182, 19, 216)",
             "rgb(114, 221, 180)",
             "rgb(85, 160, 240)",
             "rgb(49, 76, 77)",
             "rgb(20, 71, 250)",
             "rgb(147, 72, 61)"
            ]
           },
           "orientation": "h",
           "textangle": 0,
           "textposition": "outside",
           "texttemplate": "%{y}<br>%{x:.4s}",
           "type": "bar",
           "x": [
            186.665627,
            321.7270332,
            383.343068,
            570.7998662,
            763.080638,
            765.3161777,
            949.5656278,
            1479.314583,
            1658.030785
           ],
           "y": [
            "Tajikistan",
            "Kyrgyz Republic",
            "Uzbekistan",
            "Moldova",
            "Azerbaijan",
            "Armenia",
            "Turkmenistan",
            "Belarus",
            "Kazakhstan"
           ]
          }
         ],
         "layout": {
          "bargap": 0.15,
          "font": {
           "size": 14
          },
          "plot_bgcolor": "#FFFFFF",
          "xaxis": {
           "range": [
            0,
            13890.63096
           ],
           "showline": true,
           "visible": true
          },
          "yaxis": {
           "showline": false,
           "visible": true
          }
         },
         "name": "2002"
        },
        {
         "data": [
          {
           "cliponaxis": false,
           "hoverinfo": "all",
           "hovertemplate": "<extra></extra>",
           "marker": {
            "color": [
             "rgb(250, 228, 57)",
             "rgb(166, 248, 152)",
             "rgb(216, 249, 131)",
             "rgb(182, 19, 216)",
             "rgb(114, 221, 180)",
             "rgb(85, 160, 240)",
             "rgb(49, 76, 77)",
             "rgb(20, 71, 250)",
             "rgb(147, 72, 61)"
            ]
           },
           "orientation": "h",
           "textangle": 0,
           "textposition": "outside",
           "texttemplate": "%{y}<br>%{x:.4s}",
           "type": "bar",
           "x": [
            233.091549,
            380.5064324,
            396.377979,
            682.319096,
            883.7339715,
            910.1712617,
            1256.057144,
            1819.766059,
            2068.123979
           ],
           "y": [
            "Tajikistan",
            "Kyrgyz Republic",
            "Uzbekistan",
            "Moldova",
            "Azerbaijan",
            "Armenia",
            "Turkmenistan",
            "Belarus",
            "Kazakhstan"
           ]
          }
         ],
         "layout": {
          "bargap": 0.15,
          "font": {
           "size": 14
          },
          "plot_bgcolor": "#FFFFFF",
          "xaxis": {
           "range": [
            0,
            13890.63096
           ],
           "showline": true,
           "visible": true
          },
          "yaxis": {
           "showline": false,
           "visible": true
          }
         },
         "name": "2003"
        },
        {
         "data": [
          {
           "cliponaxis": false,
           "hoverinfo": "all",
           "hovertemplate": "<extra></extra>",
           "marker": {
            "color": [
             "rgb(250, 228, 57)",
             "rgb(166, 248, 152)",
             "rgb(216, 249, 131)",
             "rgb(182, 19, 216)",
             "rgb(114, 221, 180)",
             "rgb(85, 160, 240)",
             "rgb(49, 76, 77)",
             "rgb(20, 71, 250)",
             "rgb(147, 72, 61)"
            ]
           },
           "orientation": "h",
           "textangle": 0,
           "textposition": "outside",
           "texttemplate": "%{y}<br>%{x:.4s}",
           "type": "bar",
           "x": [
            305.2668999,
            433.2349766,
            465.1198869,
            897.1784947,
            1045.009379,
            1166.638204,
            1418.806266,
            2378.623286,
            2874.288483
           ],
           "y": [
            "Tajikistan",
            "Kyrgyz Republic",
            "Uzbekistan",
            "Moldova",
            "Azerbaijan",
            "Armenia",
            "Turkmenistan",
            "Belarus",
            "Kazakhstan"
           ]
          }
         ],
         "layout": {
          "bargap": 0.15,
          "font": {
           "size": 14
          },
          "plot_bgcolor": "#FFFFFF",
          "xaxis": {
           "range": [
            0,
            13890.63096
           ],
           "showline": true,
           "visible": true
          },
          "yaxis": {
           "showline": false,
           "visible": true
          }
         },
         "name": "2004"
        },
        {
         "data": [
          {
           "cliponaxis": false,
           "hoverinfo": "all",
           "hovertemplate": "<extra></extra>",
           "marker": {
            "color": [
             "rgb(250, 228, 57)",
             "rgb(166, 248, 152)",
             "rgb(216, 249, 131)",
             "rgb(182, 19, 216)",
             "rgb(114, 221, 180)",
             "rgb(85, 160, 240)",
             "rgb(49, 76, 77)",
             "rgb(20, 71, 250)",
             "rgb(147, 72, 61)"
            ]
           },
           "orientation": "h",
           "textangle": 0,
           "textposition": "outside",
           "texttemplate": "%{y}<br>%{x:.4s}",
           "type": "bar",
           "x": [
            333.7103692,
            476.55213,
            546.7768502,
            1034.39403,
            1578.40239,
            1608.163552,
            1658.672779,
            3125.810535,
            3771.278957
           ],
           "y": [
            "Tajikistan",
            "Kyrgyz Republic",
            "Uzbekistan",
            "Moldova",
            "Azerbaijan",
            "Armenia",
            "Turkmenistan",
            "Belarus",
            "Kazakhstan"
           ]
          }
         ],
         "layout": {
          "bargap": 0.15,
          "font": {
           "size": 14
          },
          "plot_bgcolor": "#FFFFFF",
          "xaxis": {
           "range": [
            0,
            13890.63096
           ],
           "showline": true,
           "visible": true
          },
          "yaxis": {
           "showline": false,
           "visible": true
          }
         },
         "name": "2005"
        },
        {
         "data": [
          {
           "cliponaxis": false,
           "hoverinfo": "all",
           "hovertemplate": "<extra></extra>",
           "marker": {
            "color": [
             "rgb(250, 228, 57)",
             "rgb(166, 248, 152)",
             "rgb(216, 249, 131)",
             "rgb(182, 19, 216)",
             "rgb(49, 76, 77)",
             "rgb(85, 160, 240)",
             "rgb(114, 221, 180)",
             "rgb(20, 71, 250)",
             "rgb(147, 72, 61)"
            ]
           },
           "orientation": "h",
           "textangle": 0,
           "textposition": "outside",
           "texttemplate": "%{y}<br>%{x:.4s}",
           "type": "bar",
           "x": [
            401.0278425,
            543.1107024,
            654.2838373,
            1183.021031,
            2074.407389,
            2109.526231,
            2473.081819,
            3847.434124,
            5291.575305
           ],
           "y": [
            "Tajikistan",
            "Kyrgyz Republic",
            "Uzbekistan",
            "Moldova",
            "Turkmenistan",
            "Armenia",
            "Azerbaijan",
            "Belarus",
            "Kazakhstan"
           ]
          }
         ],
         "layout": {
          "bargap": 0.15,
          "font": {
           "size": 14
          },
          "plot_bgcolor": "#FFFFFF",
          "xaxis": {
           "range": [
            0,
            13890.63096
           ],
           "showline": true,
           "visible": true
          },
          "yaxis": {
           "showline": false,
           "visible": true
          }
         },
         "name": "2006"
        },
        {
         "data": [
          {
           "cliponaxis": false,
           "hoverinfo": "all",
           "hovertemplate": "<extra></extra>",
           "marker": {
            "color": [
             "rgb(250, 228, 57)",
             "rgb(166, 248, 152)",
             "rgb(216, 249, 131)",
             "rgb(182, 19, 216)",
             "rgb(49, 76, 77)",
             "rgb(85, 160, 240)",
             "rgb(114, 221, 180)",
             "rgb(20, 71, 250)",
             "rgb(147, 72, 61)"
            ]
           },
           "orientation": "h",
           "textangle": 0,
           "textposition": "outside",
           "texttemplate": "%{y}<br>%{x:.4s}",
           "type": "bar",
           "x": [
            517.4323674,
            721.7686908,
            830.4076942,
            1531.221862,
            2520.285026,
            3064.280106,
            3851.437869,
            4735.657608,
            6771.414797
           ],
           "y": [
            "Tajikistan",
            "Kyrgyz Republic",
            "Uzbekistan",
            "Moldova",
            "Turkmenistan",
            "Armenia",
            "Azerbaijan",
            "Belarus",
            "Kazakhstan"
           ]
          }
         ],
         "layout": {
          "bargap": 0.15,
          "font": {
           "size": 14
          },
          "plot_bgcolor": "#FFFFFF",
          "xaxis": {
           "range": [
            0,
            13890.63096
           ],
           "showline": true,
           "visible": true
          },
          "yaxis": {
           "showline": false,
           "visible": true
          }
         },
         "name": "2007"
        },
        {
         "data": [
          {
           "cliponaxis": false,
           "hoverinfo": "all",
           "hovertemplate": "<extra></extra>",
           "marker": {
            "color": [
             "rgb(250, 228, 57)",
             "rgb(166, 248, 152)",
             "rgb(216, 249, 131)",
             "rgb(182, 19, 216)",
             "rgb(49, 76, 77)",
             "rgb(85, 160, 240)",
             "rgb(114, 221, 180)",
             "rgb(20, 71, 250)",
             "rgb(147, 72, 61)"
            ]
           },
           "orientation": "h",
           "textangle": 0,
           "textposition": "outside",
           "texttemplate": "%{y}<br>%{x:.4s}",
           "type": "bar",
           "x": [
            704.6553137,
            966.3936272,
            1082.286025,
            2110.56199,
            3778.668539,
            3908.94906,
            5574.603802,
            6377.369732,
            8458.017154
           ],
           "y": [
            "Tajikistan",
            "Kyrgyz Republic",
            "Uzbekistan",
            "Moldova",
            "Turkmenistan",
            "Armenia",
            "Azerbaijan",
            "Belarus",
            "Kazakhstan"
           ]
          }
         ],
         "layout": {
          "bargap": 0.15,
          "font": {
           "size": 14
          },
          "plot_bgcolor": "#FFFFFF",
          "xaxis": {
           "range": [
            0,
            13890.63096
           ],
           "showline": true,
           "visible": true
          },
          "yaxis": {
           "showline": false,
           "visible": true
          }
         },
         "name": "2008"
        },
        {
         "data": [
          {
           "cliponaxis": false,
           "hoverinfo": "all",
           "hovertemplate": "<extra></extra>",
           "marker": {
            "color": [
             "rgb(250, 228, 57)",
             "rgb(166, 248, 152)",
             "rgb(216, 249, 131)",
             "rgb(182, 19, 216)",
             "rgb(85, 160, 240)",
             "rgb(49, 76, 77)",
             "rgb(114, 221, 180)",
             "rgb(20, 71, 250)",
             "rgb(147, 72, 61)"
            ]
           },
           "orientation": "h",
           "textangle": 0,
           "textposition": "outside",
           "texttemplate": "%{y}<br>%{x:.4s}",
           "type": "bar",
           "x": [
            666.7226317,
            871.2243893,
            1213.265328,
            1898.435485,
            2917.366129,
            3901.670283,
            4950.294791,
            5352.583912,
            7165.223175
           ],
           "y": [
            "Tajikistan",
            "Kyrgyz Republic",
            "Uzbekistan",
            "Moldova",
            "Armenia",
            "Turkmenistan",
            "Azerbaijan",
            "Belarus",
            "Kazakhstan"
           ]
          }
         ],
         "layout": {
          "bargap": 0.15,
          "font": {
           "size": 14
          },
          "plot_bgcolor": "#FFFFFF",
          "xaxis": {
           "range": [
            0,
            13890.63096
           ],
           "showline": true,
           "visible": true
          },
          "yaxis": {
           "showline": false,
           "visible": true
          }
         },
         "name": "2009"
        },
        {
         "data": [
          {
           "cliponaxis": false,
           "hoverinfo": "all",
           "hovertemplate": "<extra></extra>",
           "marker": {
            "color": [
             "rgb(250, 228, 57)",
             "rgb(166, 248, 152)",
             "rgb(216, 249, 131)",
             "rgb(182, 19, 216)",
             "rgb(85, 160, 240)",
             "rgb(49, 76, 77)",
             "rgb(114, 221, 180)",
             "rgb(20, 71, 250)",
             "rgb(147, 72, 61)"
            ]
           },
           "orientation": "h",
           "textangle": 0,
           "textposition": "outside",
           "texttemplate": "%{y}<br>%{x:.4s}",
           "type": "bar",
           "x": [
            740.2705562,
            880.0377751,
            1742.349256,
            2436.799359,
            3143.029202,
            4286.880505,
            5843.533768,
            6033.686239,
            9070.488253
           ],
           "y": [
            "Tajikistan",
            "Kyrgyz Republic",
            "Uzbekistan",
            "Moldova",
            "Armenia",
            "Turkmenistan",
            "Azerbaijan",
            "Belarus",
            "Kazakhstan"
           ]
          }
         ],
         "layout": {
          "bargap": 0.15,
          "font": {
           "size": 14
          },
          "plot_bgcolor": "#FFFFFF",
          "xaxis": {
           "range": [
            0,
            13890.63096
           ],
           "showline": true,
           "visible": true
          },
          "yaxis": {
           "showline": false,
           "visible": true
          }
         },
         "name": "2010"
        },
        {
         "data": [
          {
           "cliponaxis": false,
           "hoverinfo": "all",
           "hovertemplate": "<extra></extra>",
           "marker": {
            "color": [
             "rgb(250, 228, 57)",
             "rgb(166, 248, 152)",
             "rgb(216, 249, 131)",
             "rgb(182, 19, 216)",
             "rgb(85, 160, 240)",
             "rgb(49, 76, 77)",
             "rgb(20, 71, 250)",
             "rgb(114, 221, 180)",
             "rgb(147, 72, 61)"
            ]
           },
           "orientation": "h",
           "textangle": 0,
           "textposition": "outside",
           "texttemplate": "%{y}<br>%{x:.4s}",
           "type": "bar",
           "x": [
            837.8784661,
            1123.883168,
            2051.129515,
            2941.362119,
            3462.681611,
            5453.155005,
            6527.173869,
            7189.691229,
            11634.0012
           ],
           "y": [
            "Tajikistan",
            "Kyrgyz Republic",
            "Uzbekistan",
            "Moldova",
            "Armenia",
            "Turkmenistan",
            "Belarus",
            "Azerbaijan",
            "Kazakhstan"
           ]
          }
         ],
         "layout": {
          "bargap": 0.15,
          "font": {
           "size": 14
          },
          "plot_bgcolor": "#FFFFFF",
          "xaxis": {
           "range": [
            0,
            13890.63096
           ],
           "showline": true,
           "visible": true
          },
          "yaxis": {
           "showline": false,
           "visible": true
          }
         },
         "name": "2011"
        },
        {
         "data": [
          {
           "cliponaxis": false,
           "hoverinfo": "all",
           "hovertemplate": "<extra></extra>",
           "marker": {
            "color": [
             "rgb(250, 228, 57)",
             "rgb(166, 248, 152)",
             "rgb(216, 249, 131)",
             "rgb(182, 19, 216)",
             "rgb(85, 160, 240)",
             "rgb(49, 76, 77)",
             "rgb(20, 71, 250)",
             "rgb(114, 221, 180)",
             "rgb(147, 72, 61)"
            ]
           },
           "orientation": "h",
           "textangle": 0,
           "textposition": "outside",
           "texttemplate": "%{y}<br>%{x:.4s}",
           "type": "bar",
           "x": [
            959.361905,
            1177.974735,
            2267.623275,
            3044.808478,
            3643.715183,
            6441.886618,
            6953.132515,
            7496.294648,
            12386.69927
           ],
           "y": [
            "Tajikistan",
            "Kyrgyz Republic",
            "Uzbekistan",
            "Moldova",
            "Armenia",
            "Turkmenistan",
            "Belarus",
            "Azerbaijan",
            "Kazakhstan"
           ]
          }
         ],
         "layout": {
          "bargap": 0.15,
          "font": {
           "size": 14
          },
          "plot_bgcolor": "#FFFFFF",
          "xaxis": {
           "range": [
            0,
            13890.63096
           ],
           "showline": true,
           "visible": true
          },
          "yaxis": {
           "showline": false,
           "visible": true
          }
         },
         "name": "2012"
        },
        {
         "data": [
          {
           "cliponaxis": false,
           "hoverinfo": "all",
           "hovertemplate": "<extra></extra>",
           "marker": {
            "color": [
             "rgb(250, 228, 57)",
             "rgb(166, 248, 152)",
             "rgb(216, 249, 131)",
             "rgb(182, 19, 216)",
             "rgb(85, 160, 240)",
             "rgb(49, 76, 77)",
             "rgb(114, 221, 180)",
             "rgb(20, 71, 250)",
             "rgb(147, 72, 61)"
            ]
           },
           "orientation": "h",
           "textangle": 0,
           "textposition": "outside",
           "texttemplate": "%{y}<br>%{x:.4s}",
           "type": "bar",
           "x": [
            1038.327981,
            1282.437162,
            2419.718703,
            3321.043917,
            3833.157532,
            7049.797505,
            7875.756953,
            7998.125239,
            13890.63096
           ],
           "y": [
            "Tajikistan",
            "Kyrgyz Republic",
            "Uzbekistan",
            "Moldova",
            "Armenia",
            "Turkmenistan",
            "Azerbaijan",
            "Belarus",
            "Kazakhstan"
           ]
          }
         ],
         "layout": {
          "bargap": 0.15,
          "font": {
           "size": 14
          },
          "plot_bgcolor": "#FFFFFF",
          "xaxis": {
           "range": [
            0,
            13890.63096
           ],
           "showline": true,
           "visible": true
          },
          "yaxis": {
           "showline": false,
           "visible": true
          }
         },
         "name": "2013"
        },
        {
         "data": [
          {
           "cliponaxis": false,
           "hoverinfo": "all",
           "hovertemplate": "<extra></extra>",
           "marker": {
            "color": [
             "rgb(250, 228, 57)",
             "rgb(166, 248, 152)",
             "rgb(216, 249, 131)",
             "rgb(182, 19, 216)",
             "rgb(85, 160, 240)",
             "rgb(49, 76, 77)",
             "rgb(114, 221, 180)",
             "rgb(20, 71, 250)",
             "rgb(147, 72, 61)"
            ]
           },
           "orientation": "h",
           "textangle": 0,
           "textposition": "outside",
           "texttemplate": "%{y}<br>%{x:.4s}",
           "type": "bar",
           "x": [
            1094.422736,
            1279.769783,
            2628.460008,
            3327.786775,
            4017.229808,
            7685.509859,
            7891.313147,
            8341.399679,
            12807.26069
           ],
           "y": [
            "Tajikistan",
            "Kyrgyz Republic",
            "Uzbekistan",
            "Moldova",
            "Armenia",
            "Turkmenistan",
            "Azerbaijan",
            "Belarus",
            "Kazakhstan"
           ]
          }
         ],
         "layout": {
          "bargap": 0.15,
          "font": {
           "size": 14
          },
          "plot_bgcolor": "#FFFFFF",
          "xaxis": {
           "range": [
            0,
            13890.63096
           ],
           "showline": true,
           "visible": true
          },
          "yaxis": {
           "showline": false,
           "visible": true
          }
         },
         "name": "2014"
        },
        {
         "data": [
          {
           "cliponaxis": false,
           "hoverinfo": "all",
           "hovertemplate": "<extra></extra>",
           "marker": {
            "color": [
             "rgb(250, 228, 57)",
             "rgb(166, 248, 152)",
             "rgb(182, 19, 216)",
             "rgb(216, 249, 131)",
             "rgb(85, 160, 240)",
             "rgb(114, 221, 180)",
             "rgb(20, 71, 250)",
             "rgb(49, 76, 77)",
             "rgb(147, 72, 61)"
            ]
           },
           "orientation": "h",
           "textangle": 0,
           "textposition": "outside",
           "texttemplate": "%{y}<br>%{x:.4s}",
           "type": "bar",
           "x": [
            970.3652238,
            1121.082835,
            2731.065584,
            2753.971072,
            3666.141876,
            5500.310382,
            5967.052204,
            6208.296655,
            10510.77189
           ],
           "y": [
            "Tajikistan",
            "Kyrgyz Republic",
            "Moldova",
            "Uzbekistan",
            "Armenia",
            "Azerbaijan",
            "Belarus",
            "Turkmenistan",
            "Kazakhstan"
           ]
          }
         ],
         "layout": {
          "bargap": 0.15,
          "font": {
           "size": 14
          },
          "plot_bgcolor": "#FFFFFF",
          "xaxis": {
           "range": [
            0,
            13890.63096
           ],
           "showline": true,
           "visible": true
          },
          "yaxis": {
           "showline": false,
           "visible": true
          }
         },
         "name": "2015"
        },
        {
         "data": [
          {
           "cliponaxis": false,
           "hoverinfo": "all",
           "hovertemplate": "<extra></extra>",
           "marker": {
            "color": [
             "rgb(250, 228, 57)",
             "rgb(166, 248, 152)",
             "rgb(216, 249, 131)",
             "rgb(182, 19, 216)",
             "rgb(85, 160, 240)",
             "rgb(114, 221, 180)",
             "rgb(20, 71, 250)",
             "rgb(49, 76, 77)",
             "rgb(147, 72, 61)"
            ]
           },
           "orientation": "h",
           "textangle": 0,
           "textposition": "outside",
           "texttemplate": "%{y}<br>%{x:.4s}",
           "type": "bar",
           "x": [
            801.3912831,
            1120.666513,
            2704.677188,
            2879.391291,
            3679.951972,
            3880.738731,
            5039.681886,
            6163.253406,
            7714.841844
           ],
           "y": [
            "Tajikistan",
            "Kyrgyz Republic",
            "Uzbekistan",
            "Moldova",
            "Armenia",
            "Azerbaijan",
            "Belarus",
            "Turkmenistan",
            "Kazakhstan"
           ]
          }
         ],
         "layout": {
          "bargap": 0.15,
          "font": {
           "size": 14
          },
          "plot_bgcolor": "#FFFFFF",
          "xaxis": {
           "range": [
            0,
            13890.63096
           ],
           "showline": true,
           "visible": true
          },
          "yaxis": {
           "showline": false,
           "visible": true
          }
         },
         "name": "2016"
        },
        {
         "data": [
          {
           "cliponaxis": false,
           "hoverinfo": "all",
           "hovertemplate": "<extra></extra>",
           "marker": {
            "color": [
             "rgb(250, 228, 57)",
             "rgb(166, 248, 152)",
             "rgb(216, 249, 131)",
             "rgb(182, 19, 216)",
             "rgb(85, 160, 240)",
             "rgb(114, 221, 180)",
             "rgb(20, 71, 250)",
             "rgb(49, 76, 77)",
             "rgb(147, 72, 61)"
            ]
           },
           "orientation": "h",
           "textangle": 0,
           "textposition": "outside",
           "texttemplate": "%{y}<br>%{x:.4s}",
           "type": "bar",
           "x": [
            844.3693648,
            1242.769643,
            1916.764642,
            3509.64734,
            4041.995021,
            4147.089716,
            5785.670673,
            6354.53283,
            9247.581331
           ],
           "y": [
            "Tajikistan",
            "Kyrgyz Republic",
            "Uzbekistan",
            "Moldova",
            "Armenia",
            "Azerbaijan",
            "Belarus",
            "Turkmenistan",
            "Kazakhstan"
           ]
          }
         ],
         "layout": {
          "bargap": 0.15,
          "font": {
           "size": 14
          },
          "plot_bgcolor": "#FFFFFF",
          "xaxis": {
           "range": [
            0,
            13890.63096
           ],
           "showline": true,
           "visible": true
          },
          "yaxis": {
           "showline": false,
           "visible": true
          }
         },
         "name": "2017"
        },
        {
         "data": [
          {
           "cliponaxis": false,
           "hoverinfo": "all",
           "hovertemplate": "<extra></extra>",
           "marker": {
            "color": [
             "rgb(250, 228, 57)",
             "rgb(166, 248, 152)",
             "rgb(216, 249, 131)",
             "rgb(182, 19, 216)",
             "rgb(85, 160, 240)",
             "rgb(114, 221, 180)",
             "rgb(20, 71, 250)",
             "rgb(49, 76, 77)",
             "rgb(147, 72, 61)"
            ]
           },
           "orientation": "h",
           "textangle": 0,
           "textposition": "outside",
           "texttemplate": "%{y}<br>%{x:.4s}",
           "type": "bar",
           "x": [
            850.6685075,
            1308.140165,
            1597.068337,
            4232.206888,
            4391.923697,
            4739.84171,
            6360.062473,
            6721.34954,
            9812.626371
           ],
           "y": [
            "Tajikistan",
            "Kyrgyz Republic",
            "Uzbekistan",
            "Moldova",
            "Armenia",
            "Azerbaijan",
            "Belarus",
            "Turkmenistan",
            "Kazakhstan"
           ]
          }
         ],
         "layout": {
          "bargap": 0.15,
          "font": {
           "size": 14
          },
          "plot_bgcolor": "#FFFFFF",
          "xaxis": {
           "range": [
            0,
            13890.63096
           ],
           "showline": true,
           "visible": true
          },
          "yaxis": {
           "showline": false,
           "visible": true
          }
         },
         "name": "2018"
        },
        {
         "data": [
          {
           "cliponaxis": false,
           "hoverinfo": "all",
           "hovertemplate": "<extra></extra>",
           "marker": {
            "color": [
             "rgb(250, 228, 57)",
             "rgb(166, 248, 152)",
             "rgb(216, 249, 131)",
             "rgb(182, 19, 216)",
             "rgb(114, 221, 180)",
             "rgb(85, 160, 240)",
             "rgb(20, 71, 250)",
             "rgb(49, 76, 77)",
             "rgb(147, 72, 61)"
            ]
           },
           "orientation": "h",
           "textangle": 0,
           "textposition": "outside",
           "texttemplate": "%{y}<br>%{x:.4s}",
           "type": "bar",
           "x": [
            889.0202624,
            1374.032105,
            1784.009816,
            4493.370303,
            4805.753718,
            4828.505178,
            6837.717826,
            7344.648233,
            9812.595808
           ],
           "y": [
            "Tajikistan",
            "Kyrgyz Republic",
            "Uzbekistan",
            "Moldova",
            "Azerbaijan",
            "Armenia",
            "Belarus",
            "Turkmenistan",
            "Kazakhstan"
           ]
          }
         ],
         "layout": {
          "bargap": 0.15,
          "font": {
           "size": 14
          },
          "plot_bgcolor": "#FFFFFF",
          "xaxis": {
           "range": [
            0,
            13890.63096
           ],
           "showline": true,
           "visible": true
          },
          "yaxis": {
           "showline": false,
           "visible": true
          }
         },
         "name": "2019"
        },
        {
         "data": [
          {
           "cliponaxis": false,
           "hoverinfo": "all",
           "hovertemplate": "<extra></extra>",
           "marker": {
            "color": [
             "rgb(49, 76, 77)",
             "rgb(250, 228, 57)",
             "rgb(166, 248, 152)",
             "rgb(216, 249, 131)",
             "rgb(114, 221, 180)",
             "rgb(182, 19, 216)",
             "rgb(85, 160, 240)",
             "rgb(20, 71, 250)",
             "rgb(147, 72, 61)"
            ]
           },
           "orientation": "h",
           "textangle": 0,
           "textposition": "outside",
           "texttemplate": "%{y}<br>%{x:.4s}",
           "type": "bar",
           "x": [
            0,
            852.3336702,
            1182.5217,
            1749.655815,
            4229.910649,
            4500.624464,
            4505.867364,
            6542.797491,
            9121.637138
           ],
           "y": [
            "Turkmenistan",
            "Tajikistan",
            "Kyrgyz Republic",
            "Uzbekistan",
            "Azerbaijan",
            "Moldova",
            "Armenia",
            "Belarus",
            "Kazakhstan"
           ]
          }
         ],
         "layout": {
          "bargap": 0.15,
          "font": {
           "size": 14
          },
          "plot_bgcolor": "#FFFFFF",
          "xaxis": {
           "range": [
            0,
            13890.63096
           ],
           "showline": true,
           "visible": true
          },
          "yaxis": {
           "showline": false,
           "visible": true
          }
         },
         "name": "2020"
        },
        {
         "data": [
          {
           "cliponaxis": false,
           "hoverinfo": "all",
           "hovertemplate": "<extra></extra>",
           "marker": {
            "color": [
             "rgb(49, 76, 77)",
             "rgb(250, 228, 57)",
             "rgb(166, 248, 152)",
             "rgb(216, 249, 131)",
             "rgb(85, 160, 240)",
             "rgb(182, 19, 216)",
             "rgb(114, 221, 180)",
             "rgb(20, 71, 250)",
             "rgb(147, 72, 61)"
            ]
           },
           "orientation": "h",
           "textangle": 0,
           "textposition": "outside",
           "texttemplate": "%{y}<br>%{x:.4s}",
           "type": "bar",
           "x": [
            0,
            897.0475103,
            1276.700365,
            1983.064723,
            4966.513471,
            5230.661733,
            5387.997975,
            7302.257794,
            10373.78979
           ],
           "y": [
            "Turkmenistan",
            "Tajikistan",
            "Kyrgyz Republic",
            "Uzbekistan",
            "Armenia",
            "Moldova",
            "Azerbaijan",
            "Belarus",
            "Kazakhstan"
           ]
          }
         ],
         "layout": {
          "bargap": 0.15,
          "font": {
           "size": 14
          },
          "plot_bgcolor": "#FFFFFF",
          "xaxis": {
           "range": [
            0,
            13890.63096
           ],
           "showline": true,
           "visible": true
          },
          "yaxis": {
           "showline": false,
           "visible": true
          }
         },
         "name": "2021"
        }
       ],
       "layout": {
        "bargap": 0.15,
        "font": {
         "size": 14
        },
        "plot_bgcolor": "#FFFFFF",
        "sliders": [
         {
          "active": 0,
          "currentvalue": {
           "font": {
            "size": 20
           },
           "prefix": "Date: ",
           "visible": true,
           "xanchor": "right"
          },
          "len": 0.9,
          "pad": {
           "b": 10,
           "t": 50
          },
          "steps": [
           {
            "args": [
             [
              "1993"
             ],
             {
              "frame": {
               "duration": 800,
               "redraw": false
              },
              "mode": "immediate",
              "transition": {
               "duration": 800
              }
             }
            ],
            "label": "1993",
            "method": "animate"
           },
           {
            "args": [
             [
              "1994"
             ],
             {
              "frame": {
               "duration": 800,
               "redraw": false
              },
              "mode": "immediate",
              "transition": {
               "duration": 800
              }
             }
            ],
            "label": "1994",
            "method": "animate"
           },
           {
            "args": [
             [
              "1995"
             ],
             {
              "frame": {
               "duration": 800,
               "redraw": false
              },
              "mode": "immediate",
              "transition": {
               "duration": 800
              }
             }
            ],
            "label": "1995",
            "method": "animate"
           },
           {
            "args": [
             [
              "1996"
             ],
             {
              "frame": {
               "duration": 800,
               "redraw": false
              },
              "mode": "immediate",
              "transition": {
               "duration": 800
              }
             }
            ],
            "label": "1996",
            "method": "animate"
           },
           {
            "args": [
             [
              "1997"
             ],
             {
              "frame": {
               "duration": 800,
               "redraw": false
              },
              "mode": "immediate",
              "transition": {
               "duration": 800
              }
             }
            ],
            "label": "1997",
            "method": "animate"
           },
           {
            "args": [
             [
              "1998"
             ],
             {
              "frame": {
               "duration": 800,
               "redraw": false
              },
              "mode": "immediate",
              "transition": {
               "duration": 800
              }
             }
            ],
            "label": "1998",
            "method": "animate"
           },
           {
            "args": [
             [
              "1999"
             ],
             {
              "frame": {
               "duration": 800,
               "redraw": false
              },
              "mode": "immediate",
              "transition": {
               "duration": 800
              }
             }
            ],
            "label": "1999",
            "method": "animate"
           },
           {
            "args": [
             [
              "2000"
             ],
             {
              "frame": {
               "duration": 800,
               "redraw": false
              },
              "mode": "immediate",
              "transition": {
               "duration": 800
              }
             }
            ],
            "label": "2000",
            "method": "animate"
           },
           {
            "args": [
             [
              "2001"
             ],
             {
              "frame": {
               "duration": 800,
               "redraw": false
              },
              "mode": "immediate",
              "transition": {
               "duration": 800
              }
             }
            ],
            "label": "2001",
            "method": "animate"
           },
           {
            "args": [
             [
              "2002"
             ],
             {
              "frame": {
               "duration": 800,
               "redraw": false
              },
              "mode": "immediate",
              "transition": {
               "duration": 800
              }
             }
            ],
            "label": "2002",
            "method": "animate"
           },
           {
            "args": [
             [
              "2003"
             ],
             {
              "frame": {
               "duration": 800,
               "redraw": false
              },
              "mode": "immediate",
              "transition": {
               "duration": 800
              }
             }
            ],
            "label": "2003",
            "method": "animate"
           },
           {
            "args": [
             [
              "2004"
             ],
             {
              "frame": {
               "duration": 800,
               "redraw": false
              },
              "mode": "immediate",
              "transition": {
               "duration": 800
              }
             }
            ],
            "label": "2004",
            "method": "animate"
           },
           {
            "args": [
             [
              "2005"
             ],
             {
              "frame": {
               "duration": 800,
               "redraw": false
              },
              "mode": "immediate",
              "transition": {
               "duration": 800
              }
             }
            ],
            "label": "2005",
            "method": "animate"
           },
           {
            "args": [
             [
              "2006"
             ],
             {
              "frame": {
               "duration": 800,
               "redraw": false
              },
              "mode": "immediate",
              "transition": {
               "duration": 800
              }
             }
            ],
            "label": "2006",
            "method": "animate"
           },
           {
            "args": [
             [
              "2007"
             ],
             {
              "frame": {
               "duration": 800,
               "redraw": false
              },
              "mode": "immediate",
              "transition": {
               "duration": 800
              }
             }
            ],
            "label": "2007",
            "method": "animate"
           },
           {
            "args": [
             [
              "2008"
             ],
             {
              "frame": {
               "duration": 800,
               "redraw": false
              },
              "mode": "immediate",
              "transition": {
               "duration": 800
              }
             }
            ],
            "label": "2008",
            "method": "animate"
           },
           {
            "args": [
             [
              "2009"
             ],
             {
              "frame": {
               "duration": 800,
               "redraw": false
              },
              "mode": "immediate",
              "transition": {
               "duration": 800
              }
             }
            ],
            "label": "2009",
            "method": "animate"
           },
           {
            "args": [
             [
              "2010"
             ],
             {
              "frame": {
               "duration": 800,
               "redraw": false
              },
              "mode": "immediate",
              "transition": {
               "duration": 800
              }
             }
            ],
            "label": "2010",
            "method": "animate"
           },
           {
            "args": [
             [
              "2011"
             ],
             {
              "frame": {
               "duration": 800,
               "redraw": false
              },
              "mode": "immediate",
              "transition": {
               "duration": 800
              }
             }
            ],
            "label": "2011",
            "method": "animate"
           },
           {
            "args": [
             [
              "2012"
             ],
             {
              "frame": {
               "duration": 800,
               "redraw": false
              },
              "mode": "immediate",
              "transition": {
               "duration": 800
              }
             }
            ],
            "label": "2012",
            "method": "animate"
           },
           {
            "args": [
             [
              "2013"
             ],
             {
              "frame": {
               "duration": 800,
               "redraw": false
              },
              "mode": "immediate",
              "transition": {
               "duration": 800
              }
             }
            ],
            "label": "2013",
            "method": "animate"
           },
           {
            "args": [
             [
              "2014"
             ],
             {
              "frame": {
               "duration": 800,
               "redraw": false
              },
              "mode": "immediate",
              "transition": {
               "duration": 800
              }
             }
            ],
            "label": "2014",
            "method": "animate"
           },
           {
            "args": [
             [
              "2015"
             ],
             {
              "frame": {
               "duration": 800,
               "redraw": false
              },
              "mode": "immediate",
              "transition": {
               "duration": 800
              }
             }
            ],
            "label": "2015",
            "method": "animate"
           },
           {
            "args": [
             [
              "2016"
             ],
             {
              "frame": {
               "duration": 800,
               "redraw": false
              },
              "mode": "immediate",
              "transition": {
               "duration": 800
              }
             }
            ],
            "label": "2016",
            "method": "animate"
           },
           {
            "args": [
             [
              "2017"
             ],
             {
              "frame": {
               "duration": 800,
               "redraw": false
              },
              "mode": "immediate",
              "transition": {
               "duration": 800
              }
             }
            ],
            "label": "2017",
            "method": "animate"
           },
           {
            "args": [
             [
              "2018"
             ],
             {
              "frame": {
               "duration": 800,
               "redraw": false
              },
              "mode": "immediate",
              "transition": {
               "duration": 800
              }
             }
            ],
            "label": "2018",
            "method": "animate"
           },
           {
            "args": [
             [
              "2019"
             ],
             {
              "frame": {
               "duration": 800,
               "redraw": false
              },
              "mode": "immediate",
              "transition": {
               "duration": 800
              }
             }
            ],
            "label": "2019",
            "method": "animate"
           },
           {
            "args": [
             [
              "2020"
             ],
             {
              "frame": {
               "duration": 800,
               "redraw": false
              },
              "mode": "immediate",
              "transition": {
               "duration": 800
              }
             }
            ],
            "label": "2020",
            "method": "animate"
           },
           {
            "args": [
             [
              "2021"
             ],
             {
              "frame": {
               "duration": 800,
               "redraw": false
              },
              "mode": "immediate",
              "transition": {
               "duration": 800
              }
             }
            ],
            "label": "2021",
            "method": "animate"
           }
          ],
          "transition": {
           "duration": 300,
           "easing": "cubic-in-out"
          },
          "x": 0.1,
          "xanchor": "left",
          "y": 0,
          "yanchor": "top"
         }
        ],
        "template": {
         "data": {
          "bar": [
           {
            "error_x": {
             "color": "#2a3f5f"
            },
            "error_y": {
             "color": "#2a3f5f"
            },
            "marker": {
             "line": {
              "color": "#E5ECF6",
              "width": 0.5
             },
             "pattern": {
              "fillmode": "overlay",
              "size": 10,
              "solidity": 0.2
             }
            },
            "type": "bar"
           }
          ],
          "barpolar": [
           {
            "marker": {
             "line": {
              "color": "#E5ECF6",
              "width": 0.5
             },
             "pattern": {
              "fillmode": "overlay",
              "size": 10,
              "solidity": 0.2
             }
            },
            "type": "barpolar"
           }
          ],
          "carpet": [
           {
            "aaxis": {
             "endlinecolor": "#2a3f5f",
             "gridcolor": "white",
             "linecolor": "white",
             "minorgridcolor": "white",
             "startlinecolor": "#2a3f5f"
            },
            "baxis": {
             "endlinecolor": "#2a3f5f",
             "gridcolor": "white",
             "linecolor": "white",
             "minorgridcolor": "white",
             "startlinecolor": "#2a3f5f"
            },
            "type": "carpet"
           }
          ],
          "choropleth": [
           {
            "colorbar": {
             "outlinewidth": 0,
             "ticks": ""
            },
            "type": "choropleth"
           }
          ],
          "contour": [
           {
            "colorbar": {
             "outlinewidth": 0,
             "ticks": ""
            },
            "colorscale": [
             [
              0,
              "#0d0887"
             ],
             [
              0.1111111111111111,
              "#46039f"
             ],
             [
              0.2222222222222222,
              "#7201a8"
             ],
             [
              0.3333333333333333,
              "#9c179e"
             ],
             [
              0.4444444444444444,
              "#bd3786"
             ],
             [
              0.5555555555555556,
              "#d8576b"
             ],
             [
              0.6666666666666666,
              "#ed7953"
             ],
             [
              0.7777777777777778,
              "#fb9f3a"
             ],
             [
              0.8888888888888888,
              "#fdca26"
             ],
             [
              1,
              "#f0f921"
             ]
            ],
            "type": "contour"
           }
          ],
          "contourcarpet": [
           {
            "colorbar": {
             "outlinewidth": 0,
             "ticks": ""
            },
            "type": "contourcarpet"
           }
          ],
          "heatmap": [
           {
            "colorbar": {
             "outlinewidth": 0,
             "ticks": ""
            },
            "colorscale": [
             [
              0,
              "#0d0887"
             ],
             [
              0.1111111111111111,
              "#46039f"
             ],
             [
              0.2222222222222222,
              "#7201a8"
             ],
             [
              0.3333333333333333,
              "#9c179e"
             ],
             [
              0.4444444444444444,
              "#bd3786"
             ],
             [
              0.5555555555555556,
              "#d8576b"
             ],
             [
              0.6666666666666666,
              "#ed7953"
             ],
             [
              0.7777777777777778,
              "#fb9f3a"
             ],
             [
              0.8888888888888888,
              "#fdca26"
             ],
             [
              1,
              "#f0f921"
             ]
            ],
            "type": "heatmap"
           }
          ],
          "heatmapgl": [
           {
            "colorbar": {
             "outlinewidth": 0,
             "ticks": ""
            },
            "colorscale": [
             [
              0,
              "#0d0887"
             ],
             [
              0.1111111111111111,
              "#46039f"
             ],
             [
              0.2222222222222222,
              "#7201a8"
             ],
             [
              0.3333333333333333,
              "#9c179e"
             ],
             [
              0.4444444444444444,
              "#bd3786"
             ],
             [
              0.5555555555555556,
              "#d8576b"
             ],
             [
              0.6666666666666666,
              "#ed7953"
             ],
             [
              0.7777777777777778,
              "#fb9f3a"
             ],
             [
              0.8888888888888888,
              "#fdca26"
             ],
             [
              1,
              "#f0f921"
             ]
            ],
            "type": "heatmapgl"
           }
          ],
          "histogram": [
           {
            "marker": {
             "pattern": {
              "fillmode": "overlay",
              "size": 10,
              "solidity": 0.2
             }
            },
            "type": "histogram"
           }
          ],
          "histogram2d": [
           {
            "colorbar": {
             "outlinewidth": 0,
             "ticks": ""
            },
            "colorscale": [
             [
              0,
              "#0d0887"
             ],
             [
              0.1111111111111111,
              "#46039f"
             ],
             [
              0.2222222222222222,
              "#7201a8"
             ],
             [
              0.3333333333333333,
              "#9c179e"
             ],
             [
              0.4444444444444444,
              "#bd3786"
             ],
             [
              0.5555555555555556,
              "#d8576b"
             ],
             [
              0.6666666666666666,
              "#ed7953"
             ],
             [
              0.7777777777777778,
              "#fb9f3a"
             ],
             [
              0.8888888888888888,
              "#fdca26"
             ],
             [
              1,
              "#f0f921"
             ]
            ],
            "type": "histogram2d"
           }
          ],
          "histogram2dcontour": [
           {
            "colorbar": {
             "outlinewidth": 0,
             "ticks": ""
            },
            "colorscale": [
             [
              0,
              "#0d0887"
             ],
             [
              0.1111111111111111,
              "#46039f"
             ],
             [
              0.2222222222222222,
              "#7201a8"
             ],
             [
              0.3333333333333333,
              "#9c179e"
             ],
             [
              0.4444444444444444,
              "#bd3786"
             ],
             [
              0.5555555555555556,
              "#d8576b"
             ],
             [
              0.6666666666666666,
              "#ed7953"
             ],
             [
              0.7777777777777778,
              "#fb9f3a"
             ],
             [
              0.8888888888888888,
              "#fdca26"
             ],
             [
              1,
              "#f0f921"
             ]
            ],
            "type": "histogram2dcontour"
           }
          ],
          "mesh3d": [
           {
            "colorbar": {
             "outlinewidth": 0,
             "ticks": ""
            },
            "type": "mesh3d"
           }
          ],
          "parcoords": [
           {
            "line": {
             "colorbar": {
              "outlinewidth": 0,
              "ticks": ""
             }
            },
            "type": "parcoords"
           }
          ],
          "pie": [
           {
            "automargin": true,
            "type": "pie"
           }
          ],
          "scatter": [
           {
            "fillpattern": {
             "fillmode": "overlay",
             "size": 10,
             "solidity": 0.2
            },
            "type": "scatter"
           }
          ],
          "scatter3d": [
           {
            "line": {
             "colorbar": {
              "outlinewidth": 0,
              "ticks": ""
             }
            },
            "marker": {
             "colorbar": {
              "outlinewidth": 0,
              "ticks": ""
             }
            },
            "type": "scatter3d"
           }
          ],
          "scattercarpet": [
           {
            "marker": {
             "colorbar": {
              "outlinewidth": 0,
              "ticks": ""
             }
            },
            "type": "scattercarpet"
           }
          ],
          "scattergeo": [
           {
            "marker": {
             "colorbar": {
              "outlinewidth": 0,
              "ticks": ""
             }
            },
            "type": "scattergeo"
           }
          ],
          "scattergl": [
           {
            "marker": {
             "colorbar": {
              "outlinewidth": 0,
              "ticks": ""
             }
            },
            "type": "scattergl"
           }
          ],
          "scattermapbox": [
           {
            "marker": {
             "colorbar": {
              "outlinewidth": 0,
              "ticks": ""
             }
            },
            "type": "scattermapbox"
           }
          ],
          "scatterpolar": [
           {
            "marker": {
             "colorbar": {
              "outlinewidth": 0,
              "ticks": ""
             }
            },
            "type": "scatterpolar"
           }
          ],
          "scatterpolargl": [
           {
            "marker": {
             "colorbar": {
              "outlinewidth": 0,
              "ticks": ""
             }
            },
            "type": "scatterpolargl"
           }
          ],
          "scatterternary": [
           {
            "marker": {
             "colorbar": {
              "outlinewidth": 0,
              "ticks": ""
             }
            },
            "type": "scatterternary"
           }
          ],
          "surface": [
           {
            "colorbar": {
             "outlinewidth": 0,
             "ticks": ""
            },
            "colorscale": [
             [
              0,
              "#0d0887"
             ],
             [
              0.1111111111111111,
              "#46039f"
             ],
             [
              0.2222222222222222,
              "#7201a8"
             ],
             [
              0.3333333333333333,
              "#9c179e"
             ],
             [
              0.4444444444444444,
              "#bd3786"
             ],
             [
              0.5555555555555556,
              "#d8576b"
             ],
             [
              0.6666666666666666,
              "#ed7953"
             ],
             [
              0.7777777777777778,
              "#fb9f3a"
             ],
             [
              0.8888888888888888,
              "#fdca26"
             ],
             [
              1,
              "#f0f921"
             ]
            ],
            "type": "surface"
           }
          ],
          "table": [
           {
            "cells": {
             "fill": {
              "color": "#EBF0F8"
             },
             "line": {
              "color": "white"
             }
            },
            "header": {
             "fill": {
              "color": "#C8D4E3"
             },
             "line": {
              "color": "white"
             }
            },
            "type": "table"
           }
          ]
         },
         "layout": {
          "annotationdefaults": {
           "arrowcolor": "#2a3f5f",
           "arrowhead": 0,
           "arrowwidth": 1
          },
          "autotypenumbers": "strict",
          "coloraxis": {
           "colorbar": {
            "outlinewidth": 0,
            "ticks": ""
           }
          },
          "colorscale": {
           "diverging": [
            [
             0,
             "#8e0152"
            ],
            [
             0.1,
             "#c51b7d"
            ],
            [
             0.2,
             "#de77ae"
            ],
            [
             0.3,
             "#f1b6da"
            ],
            [
             0.4,
             "#fde0ef"
            ],
            [
             0.5,
             "#f7f7f7"
            ],
            [
             0.6,
             "#e6f5d0"
            ],
            [
             0.7,
             "#b8e186"
            ],
            [
             0.8,
             "#7fbc41"
            ],
            [
             0.9,
             "#4d9221"
            ],
            [
             1,
             "#276419"
            ]
           ],
           "sequential": [
            [
             0,
             "#0d0887"
            ],
            [
             0.1111111111111111,
             "#46039f"
            ],
            [
             0.2222222222222222,
             "#7201a8"
            ],
            [
             0.3333333333333333,
             "#9c179e"
            ],
            [
             0.4444444444444444,
             "#bd3786"
            ],
            [
             0.5555555555555556,
             "#d8576b"
            ],
            [
             0.6666666666666666,
             "#ed7953"
            ],
            [
             0.7777777777777778,
             "#fb9f3a"
            ],
            [
             0.8888888888888888,
             "#fdca26"
            ],
            [
             1,
             "#f0f921"
            ]
           ],
           "sequentialminus": [
            [
             0,
             "#0d0887"
            ],
            [
             0.1111111111111111,
             "#46039f"
            ],
            [
             0.2222222222222222,
             "#7201a8"
            ],
            [
             0.3333333333333333,
             "#9c179e"
            ],
            [
             0.4444444444444444,
             "#bd3786"
            ],
            [
             0.5555555555555556,
             "#d8576b"
            ],
            [
             0.6666666666666666,
             "#ed7953"
            ],
            [
             0.7777777777777778,
             "#fb9f3a"
            ],
            [
             0.8888888888888888,
             "#fdca26"
            ],
            [
             1,
             "#f0f921"
            ]
           ]
          },
          "colorway": [
           "#636efa",
           "#EF553B",
           "#00cc96",
           "#ab63fa",
           "#FFA15A",
           "#19d3f3",
           "#FF6692",
           "#B6E880",
           "#FF97FF",
           "#FECB52"
          ],
          "font": {
           "color": "#2a3f5f"
          },
          "geo": {
           "bgcolor": "white",
           "lakecolor": "white",
           "landcolor": "#E5ECF6",
           "showlakes": true,
           "showland": true,
           "subunitcolor": "white"
          },
          "hoverlabel": {
           "align": "left"
          },
          "hovermode": "closest",
          "mapbox": {
           "style": "light"
          },
          "paper_bgcolor": "white",
          "plot_bgcolor": "#E5ECF6",
          "polar": {
           "angularaxis": {
            "gridcolor": "white",
            "linecolor": "white",
            "ticks": ""
           },
           "bgcolor": "#E5ECF6",
           "radialaxis": {
            "gridcolor": "white",
            "linecolor": "white",
            "ticks": ""
           }
          },
          "scene": {
           "xaxis": {
            "backgroundcolor": "#E5ECF6",
            "gridcolor": "white",
            "gridwidth": 2,
            "linecolor": "white",
            "showbackground": true,
            "ticks": "",
            "zerolinecolor": "white"
           },
           "yaxis": {
            "backgroundcolor": "#E5ECF6",
            "gridcolor": "white",
            "gridwidth": 2,
            "linecolor": "white",
            "showbackground": true,
            "ticks": "",
            "zerolinecolor": "white"
           },
           "zaxis": {
            "backgroundcolor": "#E5ECF6",
            "gridcolor": "white",
            "gridwidth": 2,
            "linecolor": "white",
            "showbackground": true,
            "ticks": "",
            "zerolinecolor": "white"
           }
          },
          "shapedefaults": {
           "line": {
            "color": "#2a3f5f"
           }
          },
          "ternary": {
           "aaxis": {
            "gridcolor": "white",
            "linecolor": "white",
            "ticks": ""
           },
           "baxis": {
            "gridcolor": "white",
            "linecolor": "white",
            "ticks": ""
           },
           "bgcolor": "#E5ECF6",
           "caxis": {
            "gridcolor": "white",
            "linecolor": "white",
            "ticks": ""
           }
          },
          "title": {
           "x": 0.05
          },
          "xaxis": {
           "automargin": true,
           "gridcolor": "white",
           "linecolor": "white",
           "ticks": "",
           "title": {
            "standoff": 15
           },
           "zerolinecolor": "white",
           "zerolinewidth": 2
          },
          "yaxis": {
           "automargin": true,
           "gridcolor": "white",
           "linecolor": "white",
           "ticks": "",
           "title": {
            "standoff": 15
           },
           "zerolinecolor": "white",
           "zerolinewidth": 2
          }
         }
        },
        "updatemenus": [
         {
          "buttons": [
           {
            "args": [
             null,
             {
              "frame": {
               "duration": 800,
               "redraw": false
              },
              "fromcurrent": true,
              "transition": {
               "duration": 800,
               "easing": "quadratic-in-out"
              }
             }
            ],
            "label": "Play",
            "method": "animate"
           },
           {
            "args": [
             [
              null
             ],
             {
              "frame": {
               "duration": 0,
               "redraw": false
              },
              "mode": "immediate",
              "transition": {
               "duration": 0
              }
             }
            ],
            "label": "Pause",
            "method": "animate"
           }
          ],
          "direction": "left",
          "pad": {
           "r": 10,
           "t": 87
          },
          "showactive": true,
          "type": "buttons",
          "x": 0.1,
          "xanchor": "right",
          "y": 0,
          "yanchor": "top"
         }
        ],
        "xaxis": {
         "range": [
          0,
          13890.63096
         ],
         "showline": true,
         "showticklabels": true,
         "title": {
          "text": "Per Capita GDP ($ 2023)"
         },
         "visible": true
        },
        "yaxis": {
         "showline": false,
         "showticklabels": false,
         "title": {
          "text": "CIS Countries (Excluding Russia)"
         },
         "visible": true
        }
       }
      }
     },
     "metadata": {},
     "output_type": "display_data"
    }
   ],
   "source": [
    "my_raceplot = barplot(data,  item_column='Country Name', value_column='Per Capita GDP', time_column='Year')\n",
    "\n",
    "my_raceplot.plot(item_label = 'CIS Countries (Excluding Russia)', value_label = 'Per Capita GDP ($ 2023)', frame_duration = 800)"
   ]
  },
  {
   "attachments": {},
   "cell_type": "markdown",
   "metadata": {},
   "source": [
    "Now producing the proper race chart using racely/plotly's formatting options"
   ]
  },
  {
   "cell_type": "code",
   "execution_count": 1,
   "metadata": {},
   "outputs": [
    {
     "data": {
      "application/vnd.plotly.v1+json": {
       "config": {
        "plotlyServerURL": "https://plot.ly"
       },
       "data": [
        {
         "cliponaxis": false,
         "hoverinfo": "all",
         "marker": {
          "color": [
           "rgb(75, 145, 197)",
           "rgb(248, 222, 127)",
           "rgb(185, 19, 87)",
           "rgb(64, 226, 180)",
           "rgb(134, 232, 146)",
           "rgb(164, 54, 99)",
           "rgb(58, 104, 173)",
           "rgb(19, 139, 167)",
           "rgb(70, 215, 100)"
          ]
         },
         "orientation": "h",
         "textangle": 0,
         "textposition": "outside",
         "texttemplate": "%{y}<br>%{x:.4s}",
         "type": "bar",
         "x": [
          0,
          209.4785718,
          287.5798132,
          347.4664633,
          449.0657902,
          596.9835856,
          788.5575627,
          1429.078177,
          1590.088117
         ],
         "y": [
          "Moldova",
          "Azerbaijan",
          "Tajikistan",
          "Armenia",
          "Kyrgyz Republic",
          "Uzbekistan",
          "Turkmenistan",
          "Kazakhstan",
          "Belarus"
         ]
        }
       ],
       "frames": [
        {
         "data": [
          {
           "cliponaxis": false,
           "hoverinfo": "all",
           "hovertemplate": "<extra></extra>",
           "marker": {
            "color": [
             "rgb(75, 145, 197)",
             "rgb(248, 222, 127)",
             "rgb(185, 19, 87)",
             "rgb(64, 226, 180)",
             "rgb(134, 232, 146)",
             "rgb(164, 54, 99)",
             "rgb(58, 104, 173)",
             "rgb(19, 139, 167)",
             "rgb(70, 215, 100)"
            ]
           },
           "orientation": "h",
           "textangle": 0,
           "textposition": "outside",
           "texttemplate": "%{y}<br>%{x:.4s}",
           "type": "bar",
           "x": [
            0,
            209.4785718,
            287.5798132,
            347.4664633,
            449.0657902,
            596.9835856,
            788.5575627,
            1429.078177,
            1590.088117
           ],
           "y": [
            "Moldova",
            "Azerbaijan",
            "Tajikistan",
            "Armenia",
            "Kyrgyz Republic",
            "Uzbekistan",
            "Turkmenistan",
            "Kazakhstan",
            "Belarus"
           ]
          }
         ],
         "layout": {
          "bargap": 0.15,
          "font": {
           "size": 14
          },
          "plot_bgcolor": "#FFFFFF",
          "xaxis": {
           "range": [
            0,
            13890.63096
           ],
           "showline": true,
           "visible": true
          },
          "yaxis": {
           "showline": false,
           "visible": true
          }
         },
         "name": "1993"
        },
        {
         "data": [
          {
           "cliponaxis": false,
           "hoverinfo": "all",
           "hovertemplate": "<extra></extra>",
           "marker": {
            "color": [
             "rgb(75, 145, 197)",
             "rgb(248, 222, 127)",
             "rgb(185, 19, 87)",
             "rgb(134, 232, 146)",
             "rgb(64, 226, 180)",
             "rgb(164, 54, 99)",
             "rgb(58, 104, 173)",
             "rgb(19, 139, 167)",
             "rgb(70, 215, 100)"
            ]
           },
           "orientation": "h",
           "textangle": 0,
           "textposition": "outside",
           "texttemplate": "%{y}<br>%{x:.4s}",
           "type": "bar",
           "x": [
            0,
            157.0860591,
            261.6813963,
            372.30781,
            389.8252865,
            576.4471105,
            619.6698961,
            1316.183629,
            1460.0655
           ],
           "y": [
            "Moldova",
            "Azerbaijan",
            "Tajikistan",
            "Kyrgyz Republic",
            "Armenia",
            "Uzbekistan",
            "Turkmenistan",
            "Kazakhstan",
            "Belarus"
           ]
          }
         ],
         "layout": {
          "bargap": 0.15,
          "font": {
           "size": 14
          },
          "plot_bgcolor": "#FFFFFF",
          "xaxis": {
           "range": [
            0,
            13890.63096
           ],
           "showline": true,
           "visible": true
          },
          "yaxis": {
           "showline": false,
           "visible": true
          }
         },
         "name": "1994"
        },
        {
         "data": [
          {
           "cliponaxis": false,
           "hoverinfo": "all",
           "hovertemplate": "<extra></extra>",
           "marker": {
            "color": [
             "rgb(185, 19, 87)",
             "rgb(248, 222, 127)",
             "rgb(134, 232, 146)",
             "rgb(64, 226, 180)",
             "rgb(164, 54, 99)",
             "rgb(58, 104, 173)",
             "rgb(75, 145, 197)",
             "rgb(19, 139, 167)",
             "rgb(70, 215, 100)"
            ]
           },
           "orientation": "h",
           "textangle": 0,
           "textposition": "outside",
           "texttemplate": "%{y}<br>%{x:.4s}",
           "type": "bar",
           "x": [
            208.0805555,
            314.5612263,
            364.2264974,
            441.8940018,
            585.9323642,
            587.2840894,
            593.586593,
            1288.188519,
            1370.699283
           ],
           "y": [
            "Tajikistan",
            "Azerbaijan",
            "Kyrgyz Republic",
            "Armenia",
            "Uzbekistan",
            "Turkmenistan",
            "Moldova",
            "Kazakhstan",
            "Belarus"
           ]
          }
         ],
         "layout": {
          "bargap": 0.15,
          "font": {
           "size": 14
          },
          "plot_bgcolor": "#FFFFFF",
          "xaxis": {
           "range": [
            0,
            13890.63096
           ],
           "showline": true,
           "visible": true
          },
          "yaxis": {
           "showline": false,
           "visible": true
          }
         },
         "name": "1995"
        },
        {
         "data": [
          {
           "cliponaxis": false,
           "hoverinfo": "all",
           "hovertemplate": "<extra></extra>",
           "marker": {
            "color": [
             "rgb(185, 19, 87)",
             "rgb(134, 232, 146)",
             "rgb(248, 222, 127)",
             "rgb(64, 226, 180)",
             "rgb(58, 104, 173)",
             "rgb(75, 145, 197)",
             "rgb(164, 54, 99)",
             "rgb(19, 139, 167)",
             "rgb(70, 215, 100)"
            ]
           },
           "orientation": "h",
           "textangle": 0,
           "textposition": "outside",
           "texttemplate": "%{y}<br>%{x:.4s}",
           "type": "bar",
           "x": [
            172.9164992,
            394.8601215,
            409.1631891,
            484.091641,
            553.0594143,
            575.1454551,
            600.5981578,
            1350.30567,
            1452.507105
           ],
           "y": [
            "Tajikistan",
            "Kyrgyz Republic",
            "Azerbaijan",
            "Armenia",
            "Turkmenistan",
            "Moldova",
            "Uzbekistan",
            "Kazakhstan",
            "Belarus"
           ]
          }
         ],
         "layout": {
          "bargap": 0.15,
          "font": {
           "size": 14
          },
          "plot_bgcolor": "#FFFFFF",
          "xaxis": {
           "range": [
            0,
            13890.63096
           ],
           "showline": true,
           "visible": true
          },
          "yaxis": {
           "showline": false,
           "visible": true
          }
         },
         "name": "1996"
        },
        {
         "data": [
          {
           "cliponaxis": false,
           "hoverinfo": "all",
           "hovertemplate": "<extra></extra>",
           "marker": {
            "color": [
             "rgb(185, 19, 87)",
             "rgb(134, 232, 146)",
             "rgb(64, 226, 180)",
             "rgb(248, 222, 127)",
             "rgb(58, 104, 173)",
             "rgb(164, 54, 99)",
             "rgb(75, 145, 197)",
             "rgb(70, 215, 100)",
             "rgb(19, 139, 167)"
            ]
           },
           "orientation": "h",
           "textangle": 0,
           "textposition": "outside",
           "texttemplate": "%{y}<br>%{x:.4s}",
           "type": "bar",
           "x": [
            150.6558312,
            376.4296133,
            501.1565152,
            505.5003493,
            561.533872,
            623.0026524,
            657.2921346,
            1396.442019,
            1445.503237
           ],
           "y": [
            "Tajikistan",
            "Kyrgyz Republic",
            "Armenia",
            "Azerbaijan",
            "Turkmenistan",
            "Uzbekistan",
            "Moldova",
            "Belarus",
            "Kazakhstan"
           ]
          }
         ],
         "layout": {
          "bargap": 0.15,
          "font": {
           "size": 14
          },
          "plot_bgcolor": "#FFFFFF",
          "xaxis": {
           "range": [
            0,
            13890.63096
           ],
           "showline": true,
           "visible": true
          },
          "yaxis": {
           "showline": false,
           "visible": true
          }
         },
         "name": "1997"
        },
        {
         "data": [
          {
           "cliponaxis": false,
           "hoverinfo": "all",
           "hovertemplate": "<extra></extra>",
           "marker": {
            "color": [
             "rgb(185, 19, 87)",
             "rgb(134, 232, 146)",
             "rgb(248, 222, 127)",
             "rgb(75, 145, 197)",
             "rgb(64, 226, 180)",
             "rgb(58, 104, 173)",
             "rgb(164, 54, 99)",
             "rgb(19, 139, 167)",
             "rgb(70, 215, 100)"
            ]
           },
           "orientation": "h",
           "textangle": 0,
           "textposition": "outside",
           "texttemplate": "%{y}<br>%{x:.4s}",
           "type": "bar",
           "x": [
            214.4362345,
            345.1381316,
            561.9068079,
            578.7346276,
            584.3842673,
            587.9900867,
            623.2161328,
            1468.669291,
            1511.325316
           ],
           "y": [
            "Tajikistan",
            "Kyrgyz Republic",
            "Azerbaijan",
            "Moldova",
            "Armenia",
            "Turkmenistan",
            "Uzbekistan",
            "Kazakhstan",
            "Belarus"
           ]
          }
         ],
         "layout": {
          "bargap": 0.15,
          "font": {
           "size": 14
          },
          "plot_bgcolor": "#FFFFFF",
          "xaxis": {
           "range": [
            0,
            13890.63096
           ],
           "showline": true,
           "visible": true
          },
          "yaxis": {
           "showline": false,
           "visible": true
          }
         },
         "name": "1998"
        },
        {
         "data": [
          {
           "cliponaxis": false,
           "hoverinfo": "all",
           "hovertemplate": "<extra></extra>",
           "marker": {
            "color": [
             "rgb(185, 19, 87)",
             "rgb(134, 232, 146)",
             "rgb(75, 145, 197)",
             "rgb(58, 104, 173)",
             "rgb(248, 222, 127)",
             "rgb(64, 226, 180)",
             "rgb(164, 54, 99)",
             "rgb(19, 139, 167)",
             "rgb(70, 215, 100)"
            ]
           },
           "orientation": "h",
           "textangle": 0,
           "textposition": "outside",
           "texttemplate": "%{y}<br>%{x:.4s}",
           "type": "bar",
           "x": [
            175.5543835,
            258.0492288,
            399.4998186,
            544.4393372,
            573.9165123,
            575.6284792,
            702.4807441,
            1130.117844,
            1210.61172
           ],
           "y": [
            "Tajikistan",
            "Kyrgyz Republic",
            "Moldova",
            "Turkmenistan",
            "Azerbaijan",
            "Armenia",
            "Uzbekistan",
            "Kazakhstan",
            "Belarus"
           ]
          }
         ],
         "layout": {
          "bargap": 0.15,
          "font": {
           "size": 14
          },
          "plot_bgcolor": "#FFFFFF",
          "xaxis": {
           "range": [
            0,
            13890.63096
           ],
           "showline": true,
           "visible": true
          },
          "yaxis": {
           "showline": false,
           "visible": true
          }
         },
         "name": "1999"
        },
        {
         "data": [
          {
           "cliponaxis": false,
           "hoverinfo": "all",
           "hovertemplate": "<extra></extra>",
           "marker": {
            "color": [
             "rgb(185, 19, 87)",
             "rgb(134, 232, 146)",
             "rgb(75, 145, 197)",
             "rgb(164, 54, 99)",
             "rgb(64, 226, 180)",
             "rgb(58, 104, 173)",
             "rgb(248, 222, 127)",
             "rgb(19, 139, 167)",
             "rgb(70, 215, 100)"
            ]
           },
           "orientation": "h",
           "textangle": 0,
           "textposition": "outside",
           "texttemplate": "%{y}<br>%{x:.4s}",
           "type": "bar",
           "x": [
            137.1786057,
            279.6195693,
            440.538684,
            558.2268024,
            603.2980252,
            635.7143118,
            655.1199452,
            1229.001247,
            1276.288034
           ],
           "y": [
            "Tajikistan",
            "Kyrgyz Republic",
            "Moldova",
            "Uzbekistan",
            "Armenia",
            "Turkmenistan",
            "Azerbaijan",
            "Kazakhstan",
            "Belarus"
           ]
          }
         ],
         "layout": {
          "bargap": 0.15,
          "font": {
           "size": 14
          },
          "plot_bgcolor": "#FFFFFF",
          "xaxis": {
           "range": [
            0,
            13890.63096
           ],
           "showline": true,
           "visible": true
          },
          "yaxis": {
           "showline": false,
           "visible": true
          }
         },
         "name": "2000"
        },
        {
         "data": [
          {
           "cliponaxis": false,
           "hoverinfo": "all",
           "hovertemplate": "<extra></extra>",
           "marker": {
            "color": [
             "rgb(185, 19, 87)",
             "rgb(134, 232, 146)",
             "rgb(164, 54, 99)",
             "rgb(75, 145, 197)",
             "rgb(64, 226, 180)",
             "rgb(248, 222, 127)",
             "rgb(58, 104, 173)",
             "rgb(70, 215, 100)",
             "rgb(19, 139, 167)"
            ]
           },
           "orientation": "h",
           "textangle": 0,
           "textposition": "outside",
           "texttemplate": "%{y}<br>%{x:.4s}",
           "type": "bar",
           "x": [
            168.6380009,
            308.4096116,
            456.7062895,
            507.4040763,
            676.1500113,
            703.6838434,
            762.6175265,
            1244.373185,
            1490.92709
           ],
           "y": [
            "Tajikistan",
            "Kyrgyz Republic",
            "Uzbekistan",
            "Moldova",
            "Armenia",
            "Azerbaijan",
            "Turkmenistan",
            "Belarus",
            "Kazakhstan"
           ]
          }
         ],
         "layout": {
          "bargap": 0.15,
          "font": {
           "size": 14
          },
          "plot_bgcolor": "#FFFFFF",
          "xaxis": {
           "range": [
            0,
            13890.63096
           ],
           "showline": true,
           "visible": true
          },
          "yaxis": {
           "showline": false,
           "visible": true
          }
         },
         "name": "2001"
        },
        {
         "data": [
          {
           "cliponaxis": false,
           "hoverinfo": "all",
           "hovertemplate": "<extra></extra>",
           "marker": {
            "color": [
             "rgb(185, 19, 87)",
             "rgb(134, 232, 146)",
             "rgb(164, 54, 99)",
             "rgb(75, 145, 197)",
             "rgb(248, 222, 127)",
             "rgb(64, 226, 180)",
             "rgb(58, 104, 173)",
             "rgb(70, 215, 100)",
             "rgb(19, 139, 167)"
            ]
           },
           "orientation": "h",
           "textangle": 0,
           "textposition": "outside",
           "texttemplate": "%{y}<br>%{x:.4s}",
           "type": "bar",
           "x": [
            186.665627,
            321.7270332,
            383.343068,
            570.7998662,
            763.080638,
            765.3161777,
            949.5656278,
            1479.314583,
            1658.030785
           ],
           "y": [
            "Tajikistan",
            "Kyrgyz Republic",
            "Uzbekistan",
            "Moldova",
            "Azerbaijan",
            "Armenia",
            "Turkmenistan",
            "Belarus",
            "Kazakhstan"
           ]
          }
         ],
         "layout": {
          "bargap": 0.15,
          "font": {
           "size": 14
          },
          "plot_bgcolor": "#FFFFFF",
          "xaxis": {
           "range": [
            0,
            13890.63096
           ],
           "showline": true,
           "visible": true
          },
          "yaxis": {
           "showline": false,
           "visible": true
          }
         },
         "name": "2002"
        },
        {
         "data": [
          {
           "cliponaxis": false,
           "hoverinfo": "all",
           "hovertemplate": "<extra></extra>",
           "marker": {
            "color": [
             "rgb(185, 19, 87)",
             "rgb(134, 232, 146)",
             "rgb(164, 54, 99)",
             "rgb(75, 145, 197)",
             "rgb(248, 222, 127)",
             "rgb(64, 226, 180)",
             "rgb(58, 104, 173)",
             "rgb(70, 215, 100)",
             "rgb(19, 139, 167)"
            ]
           },
           "orientation": "h",
           "textangle": 0,
           "textposition": "outside",
           "texttemplate": "%{y}<br>%{x:.4s}",
           "type": "bar",
           "x": [
            233.091549,
            380.5064324,
            396.377979,
            682.319096,
            883.7339715,
            910.1712617,
            1256.057144,
            1819.766059,
            2068.123979
           ],
           "y": [
            "Tajikistan",
            "Kyrgyz Republic",
            "Uzbekistan",
            "Moldova",
            "Azerbaijan",
            "Armenia",
            "Turkmenistan",
            "Belarus",
            "Kazakhstan"
           ]
          }
         ],
         "layout": {
          "bargap": 0.15,
          "font": {
           "size": 14
          },
          "plot_bgcolor": "#FFFFFF",
          "xaxis": {
           "range": [
            0,
            13890.63096
           ],
           "showline": true,
           "visible": true
          },
          "yaxis": {
           "showline": false,
           "visible": true
          }
         },
         "name": "2003"
        },
        {
         "data": [
          {
           "cliponaxis": false,
           "hoverinfo": "all",
           "hovertemplate": "<extra></extra>",
           "marker": {
            "color": [
             "rgb(185, 19, 87)",
             "rgb(134, 232, 146)",
             "rgb(164, 54, 99)",
             "rgb(75, 145, 197)",
             "rgb(248, 222, 127)",
             "rgb(64, 226, 180)",
             "rgb(58, 104, 173)",
             "rgb(70, 215, 100)",
             "rgb(19, 139, 167)"
            ]
           },
           "orientation": "h",
           "textangle": 0,
           "textposition": "outside",
           "texttemplate": "%{y}<br>%{x:.4s}",
           "type": "bar",
           "x": [
            305.2668999,
            433.2349766,
            465.1198869,
            897.1784947,
            1045.009379,
            1166.638204,
            1418.806266,
            2378.623286,
            2874.288483
           ],
           "y": [
            "Tajikistan",
            "Kyrgyz Republic",
            "Uzbekistan",
            "Moldova",
            "Azerbaijan",
            "Armenia",
            "Turkmenistan",
            "Belarus",
            "Kazakhstan"
           ]
          }
         ],
         "layout": {
          "bargap": 0.15,
          "font": {
           "size": 14
          },
          "plot_bgcolor": "#FFFFFF",
          "xaxis": {
           "range": [
            0,
            13890.63096
           ],
           "showline": true,
           "visible": true
          },
          "yaxis": {
           "showline": false,
           "visible": true
          }
         },
         "name": "2004"
        },
        {
         "data": [
          {
           "cliponaxis": false,
           "hoverinfo": "all",
           "hovertemplate": "<extra></extra>",
           "marker": {
            "color": [
             "rgb(185, 19, 87)",
             "rgb(134, 232, 146)",
             "rgb(164, 54, 99)",
             "rgb(75, 145, 197)",
             "rgb(248, 222, 127)",
             "rgb(64, 226, 180)",
             "rgb(58, 104, 173)",
             "rgb(70, 215, 100)",
             "rgb(19, 139, 167)"
            ]
           },
           "orientation": "h",
           "textangle": 0,
           "textposition": "outside",
           "texttemplate": "%{y}<br>%{x:.4s}",
           "type": "bar",
           "x": [
            333.7103692,
            476.55213,
            546.7768502,
            1034.39403,
            1578.40239,
            1608.163552,
            1658.672779,
            3125.810535,
            3771.278957
           ],
           "y": [
            "Tajikistan",
            "Kyrgyz Republic",
            "Uzbekistan",
            "Moldova",
            "Azerbaijan",
            "Armenia",
            "Turkmenistan",
            "Belarus",
            "Kazakhstan"
           ]
          }
         ],
         "layout": {
          "bargap": 0.15,
          "font": {
           "size": 14
          },
          "plot_bgcolor": "#FFFFFF",
          "xaxis": {
           "range": [
            0,
            13890.63096
           ],
           "showline": true,
           "visible": true
          },
          "yaxis": {
           "showline": false,
           "visible": true
          }
         },
         "name": "2005"
        },
        {
         "data": [
          {
           "cliponaxis": false,
           "hoverinfo": "all",
           "hovertemplate": "<extra></extra>",
           "marker": {
            "color": [
             "rgb(185, 19, 87)",
             "rgb(134, 232, 146)",
             "rgb(164, 54, 99)",
             "rgb(75, 145, 197)",
             "rgb(58, 104, 173)",
             "rgb(64, 226, 180)",
             "rgb(248, 222, 127)",
             "rgb(70, 215, 100)",
             "rgb(19, 139, 167)"
            ]
           },
           "orientation": "h",
           "textangle": 0,
           "textposition": "outside",
           "texttemplate": "%{y}<br>%{x:.4s}",
           "type": "bar",
           "x": [
            401.0278425,
            543.1107024,
            654.2838373,
            1183.021031,
            2074.407389,
            2109.526231,
            2473.081819,
            3847.434124,
            5291.575305
           ],
           "y": [
            "Tajikistan",
            "Kyrgyz Republic",
            "Uzbekistan",
            "Moldova",
            "Turkmenistan",
            "Armenia",
            "Azerbaijan",
            "Belarus",
            "Kazakhstan"
           ]
          }
         ],
         "layout": {
          "bargap": 0.15,
          "font": {
           "size": 14
          },
          "plot_bgcolor": "#FFFFFF",
          "xaxis": {
           "range": [
            0,
            13890.63096
           ],
           "showline": true,
           "visible": true
          },
          "yaxis": {
           "showline": false,
           "visible": true
          }
         },
         "name": "2006"
        },
        {
         "data": [
          {
           "cliponaxis": false,
           "hoverinfo": "all",
           "hovertemplate": "<extra></extra>",
           "marker": {
            "color": [
             "rgb(185, 19, 87)",
             "rgb(134, 232, 146)",
             "rgb(164, 54, 99)",
             "rgb(75, 145, 197)",
             "rgb(58, 104, 173)",
             "rgb(64, 226, 180)",
             "rgb(248, 222, 127)",
             "rgb(70, 215, 100)",
             "rgb(19, 139, 167)"
            ]
           },
           "orientation": "h",
           "textangle": 0,
           "textposition": "outside",
           "texttemplate": "%{y}<br>%{x:.4s}",
           "type": "bar",
           "x": [
            517.4323674,
            721.7686908,
            830.4076942,
            1531.221862,
            2520.285026,
            3064.280106,
            3851.437869,
            4735.657608,
            6771.414797
           ],
           "y": [
            "Tajikistan",
            "Kyrgyz Republic",
            "Uzbekistan",
            "Moldova",
            "Turkmenistan",
            "Armenia",
            "Azerbaijan",
            "Belarus",
            "Kazakhstan"
           ]
          }
         ],
         "layout": {
          "bargap": 0.15,
          "font": {
           "size": 14
          },
          "plot_bgcolor": "#FFFFFF",
          "xaxis": {
           "range": [
            0,
            13890.63096
           ],
           "showline": true,
           "visible": true
          },
          "yaxis": {
           "showline": false,
           "visible": true
          }
         },
         "name": "2007"
        },
        {
         "data": [
          {
           "cliponaxis": false,
           "hoverinfo": "all",
           "hovertemplate": "<extra></extra>",
           "marker": {
            "color": [
             "rgb(185, 19, 87)",
             "rgb(134, 232, 146)",
             "rgb(164, 54, 99)",
             "rgb(75, 145, 197)",
             "rgb(58, 104, 173)",
             "rgb(64, 226, 180)",
             "rgb(248, 222, 127)",
             "rgb(70, 215, 100)",
             "rgb(19, 139, 167)"
            ]
           },
           "orientation": "h",
           "textangle": 0,
           "textposition": "outside",
           "texttemplate": "%{y}<br>%{x:.4s}",
           "type": "bar",
           "x": [
            704.6553137,
            966.3936272,
            1082.286025,
            2110.56199,
            3778.668539,
            3908.94906,
            5574.603802,
            6377.369732,
            8458.017154
           ],
           "y": [
            "Tajikistan",
            "Kyrgyz Republic",
            "Uzbekistan",
            "Moldova",
            "Turkmenistan",
            "Armenia",
            "Azerbaijan",
            "Belarus",
            "Kazakhstan"
           ]
          }
         ],
         "layout": {
          "bargap": 0.15,
          "font": {
           "size": 14
          },
          "plot_bgcolor": "#FFFFFF",
          "xaxis": {
           "range": [
            0,
            13890.63096
           ],
           "showline": true,
           "visible": true
          },
          "yaxis": {
           "showline": false,
           "visible": true
          }
         },
         "name": "2008"
        },
        {
         "data": [
          {
           "cliponaxis": false,
           "hoverinfo": "all",
           "hovertemplate": "<extra></extra>",
           "marker": {
            "color": [
             "rgb(185, 19, 87)",
             "rgb(134, 232, 146)",
             "rgb(164, 54, 99)",
             "rgb(75, 145, 197)",
             "rgb(64, 226, 180)",
             "rgb(58, 104, 173)",
             "rgb(248, 222, 127)",
             "rgb(70, 215, 100)",
             "rgb(19, 139, 167)"
            ]
           },
           "orientation": "h",
           "textangle": 0,
           "textposition": "outside",
           "texttemplate": "%{y}<br>%{x:.4s}",
           "type": "bar",
           "x": [
            666.7226317,
            871.2243893,
            1213.265328,
            1898.435485,
            2917.366129,
            3901.670283,
            4950.294791,
            5352.583912,
            7165.223175
           ],
           "y": [
            "Tajikistan",
            "Kyrgyz Republic",
            "Uzbekistan",
            "Moldova",
            "Armenia",
            "Turkmenistan",
            "Azerbaijan",
            "Belarus",
            "Kazakhstan"
           ]
          }
         ],
         "layout": {
          "bargap": 0.15,
          "font": {
           "size": 14
          },
          "plot_bgcolor": "#FFFFFF",
          "xaxis": {
           "range": [
            0,
            13890.63096
           ],
           "showline": true,
           "visible": true
          },
          "yaxis": {
           "showline": false,
           "visible": true
          }
         },
         "name": "2009"
        },
        {
         "data": [
          {
           "cliponaxis": false,
           "hoverinfo": "all",
           "hovertemplate": "<extra></extra>",
           "marker": {
            "color": [
             "rgb(185, 19, 87)",
             "rgb(134, 232, 146)",
             "rgb(164, 54, 99)",
             "rgb(75, 145, 197)",
             "rgb(64, 226, 180)",
             "rgb(58, 104, 173)",
             "rgb(248, 222, 127)",
             "rgb(70, 215, 100)",
             "rgb(19, 139, 167)"
            ]
           },
           "orientation": "h",
           "textangle": 0,
           "textposition": "outside",
           "texttemplate": "%{y}<br>%{x:.4s}",
           "type": "bar",
           "x": [
            740.2705562,
            880.0377751,
            1742.349256,
            2436.799359,
            3143.029202,
            4286.880505,
            5843.533768,
            6033.686239,
            9070.488253
           ],
           "y": [
            "Tajikistan",
            "Kyrgyz Republic",
            "Uzbekistan",
            "Moldova",
            "Armenia",
            "Turkmenistan",
            "Azerbaijan",
            "Belarus",
            "Kazakhstan"
           ]
          }
         ],
         "layout": {
          "bargap": 0.15,
          "font": {
           "size": 14
          },
          "plot_bgcolor": "#FFFFFF",
          "xaxis": {
           "range": [
            0,
            13890.63096
           ],
           "showline": true,
           "visible": true
          },
          "yaxis": {
           "showline": false,
           "visible": true
          }
         },
         "name": "2010"
        },
        {
         "data": [
          {
           "cliponaxis": false,
           "hoverinfo": "all",
           "hovertemplate": "<extra></extra>",
           "marker": {
            "color": [
             "rgb(185, 19, 87)",
             "rgb(134, 232, 146)",
             "rgb(164, 54, 99)",
             "rgb(75, 145, 197)",
             "rgb(64, 226, 180)",
             "rgb(58, 104, 173)",
             "rgb(70, 215, 100)",
             "rgb(248, 222, 127)",
             "rgb(19, 139, 167)"
            ]
           },
           "orientation": "h",
           "textangle": 0,
           "textposition": "outside",
           "texttemplate": "%{y}<br>%{x:.4s}",
           "type": "bar",
           "x": [
            837.8784661,
            1123.883168,
            2051.129515,
            2941.362119,
            3462.681611,
            5453.155005,
            6527.173869,
            7189.691229,
            11634.0012
           ],
           "y": [
            "Tajikistan",
            "Kyrgyz Republic",
            "Uzbekistan",
            "Moldova",
            "Armenia",
            "Turkmenistan",
            "Belarus",
            "Azerbaijan",
            "Kazakhstan"
           ]
          }
         ],
         "layout": {
          "bargap": 0.15,
          "font": {
           "size": 14
          },
          "plot_bgcolor": "#FFFFFF",
          "xaxis": {
           "range": [
            0,
            13890.63096
           ],
           "showline": true,
           "visible": true
          },
          "yaxis": {
           "showline": false,
           "visible": true
          }
         },
         "name": "2011"
        },
        {
         "data": [
          {
           "cliponaxis": false,
           "hoverinfo": "all",
           "hovertemplate": "<extra></extra>",
           "marker": {
            "color": [
             "rgb(185, 19, 87)",
             "rgb(134, 232, 146)",
             "rgb(164, 54, 99)",
             "rgb(75, 145, 197)",
             "rgb(64, 226, 180)",
             "rgb(58, 104, 173)",
             "rgb(70, 215, 100)",
             "rgb(248, 222, 127)",
             "rgb(19, 139, 167)"
            ]
           },
           "orientation": "h",
           "textangle": 0,
           "textposition": "outside",
           "texttemplate": "%{y}<br>%{x:.4s}",
           "type": "bar",
           "x": [
            959.361905,
            1177.974735,
            2267.623275,
            3044.808478,
            3643.715183,
            6441.886618,
            6953.132515,
            7496.294648,
            12386.69927
           ],
           "y": [
            "Tajikistan",
            "Kyrgyz Republic",
            "Uzbekistan",
            "Moldova",
            "Armenia",
            "Turkmenistan",
            "Belarus",
            "Azerbaijan",
            "Kazakhstan"
           ]
          }
         ],
         "layout": {
          "bargap": 0.15,
          "font": {
           "size": 14
          },
          "plot_bgcolor": "#FFFFFF",
          "xaxis": {
           "range": [
            0,
            13890.63096
           ],
           "showline": true,
           "visible": true
          },
          "yaxis": {
           "showline": false,
           "visible": true
          }
         },
         "name": "2012"
        },
        {
         "data": [
          {
           "cliponaxis": false,
           "hoverinfo": "all",
           "hovertemplate": "<extra></extra>",
           "marker": {
            "color": [
             "rgb(185, 19, 87)",
             "rgb(134, 232, 146)",
             "rgb(164, 54, 99)",
             "rgb(75, 145, 197)",
             "rgb(64, 226, 180)",
             "rgb(58, 104, 173)",
             "rgb(248, 222, 127)",
             "rgb(70, 215, 100)",
             "rgb(19, 139, 167)"
            ]
           },
           "orientation": "h",
           "textangle": 0,
           "textposition": "outside",
           "texttemplate": "%{y}<br>%{x:.4s}",
           "type": "bar",
           "x": [
            1038.327981,
            1282.437162,
            2419.718703,
            3321.043917,
            3833.157532,
            7049.797505,
            7875.756953,
            7998.125239,
            13890.63096
           ],
           "y": [
            "Tajikistan",
            "Kyrgyz Republic",
            "Uzbekistan",
            "Moldova",
            "Armenia",
            "Turkmenistan",
            "Azerbaijan",
            "Belarus",
            "Kazakhstan"
           ]
          }
         ],
         "layout": {
          "bargap": 0.15,
          "font": {
           "size": 14
          },
          "plot_bgcolor": "#FFFFFF",
          "xaxis": {
           "range": [
            0,
            13890.63096
           ],
           "showline": true,
           "visible": true
          },
          "yaxis": {
           "showline": false,
           "visible": true
          }
         },
         "name": "2013"
        },
        {
         "data": [
          {
           "cliponaxis": false,
           "hoverinfo": "all",
           "hovertemplate": "<extra></extra>",
           "marker": {
            "color": [
             "rgb(185, 19, 87)",
             "rgb(134, 232, 146)",
             "rgb(164, 54, 99)",
             "rgb(75, 145, 197)",
             "rgb(64, 226, 180)",
             "rgb(58, 104, 173)",
             "rgb(248, 222, 127)",
             "rgb(70, 215, 100)",
             "rgb(19, 139, 167)"
            ]
           },
           "orientation": "h",
           "textangle": 0,
           "textposition": "outside",
           "texttemplate": "%{y}<br>%{x:.4s}",
           "type": "bar",
           "x": [
            1094.422736,
            1279.769783,
            2628.460008,
            3327.786775,
            4017.229808,
            7685.509859,
            7891.313147,
            8341.399679,
            12807.26069
           ],
           "y": [
            "Tajikistan",
            "Kyrgyz Republic",
            "Uzbekistan",
            "Moldova",
            "Armenia",
            "Turkmenistan",
            "Azerbaijan",
            "Belarus",
            "Kazakhstan"
           ]
          }
         ],
         "layout": {
          "bargap": 0.15,
          "font": {
           "size": 14
          },
          "plot_bgcolor": "#FFFFFF",
          "xaxis": {
           "range": [
            0,
            13890.63096
           ],
           "showline": true,
           "visible": true
          },
          "yaxis": {
           "showline": false,
           "visible": true
          }
         },
         "name": "2014"
        },
        {
         "data": [
          {
           "cliponaxis": false,
           "hoverinfo": "all",
           "hovertemplate": "<extra></extra>",
           "marker": {
            "color": [
             "rgb(185, 19, 87)",
             "rgb(134, 232, 146)",
             "rgb(75, 145, 197)",
             "rgb(164, 54, 99)",
             "rgb(64, 226, 180)",
             "rgb(248, 222, 127)",
             "rgb(70, 215, 100)",
             "rgb(58, 104, 173)",
             "rgb(19, 139, 167)"
            ]
           },
           "orientation": "h",
           "textangle": 0,
           "textposition": "outside",
           "texttemplate": "%{y}<br>%{x:.4s}",
           "type": "bar",
           "x": [
            970.3652238,
            1121.082835,
            2731.065584,
            2753.971072,
            3666.141876,
            5500.310382,
            5967.052204,
            6208.296655,
            10510.77189
           ],
           "y": [
            "Tajikistan",
            "Kyrgyz Republic",
            "Moldova",
            "Uzbekistan",
            "Armenia",
            "Azerbaijan",
            "Belarus",
            "Turkmenistan",
            "Kazakhstan"
           ]
          }
         ],
         "layout": {
          "bargap": 0.15,
          "font": {
           "size": 14
          },
          "plot_bgcolor": "#FFFFFF",
          "xaxis": {
           "range": [
            0,
            13890.63096
           ],
           "showline": true,
           "visible": true
          },
          "yaxis": {
           "showline": false,
           "visible": true
          }
         },
         "name": "2015"
        },
        {
         "data": [
          {
           "cliponaxis": false,
           "hoverinfo": "all",
           "hovertemplate": "<extra></extra>",
           "marker": {
            "color": [
             "rgb(185, 19, 87)",
             "rgb(134, 232, 146)",
             "rgb(164, 54, 99)",
             "rgb(75, 145, 197)",
             "rgb(64, 226, 180)",
             "rgb(248, 222, 127)",
             "rgb(70, 215, 100)",
             "rgb(58, 104, 173)",
             "rgb(19, 139, 167)"
            ]
           },
           "orientation": "h",
           "textangle": 0,
           "textposition": "outside",
           "texttemplate": "%{y}<br>%{x:.4s}",
           "type": "bar",
           "x": [
            801.3912831,
            1120.666513,
            2704.677188,
            2879.391291,
            3679.951972,
            3880.738731,
            5039.681886,
            6163.253406,
            7714.841844
           ],
           "y": [
            "Tajikistan",
            "Kyrgyz Republic",
            "Uzbekistan",
            "Moldova",
            "Armenia",
            "Azerbaijan",
            "Belarus",
            "Turkmenistan",
            "Kazakhstan"
           ]
          }
         ],
         "layout": {
          "bargap": 0.15,
          "font": {
           "size": 14
          },
          "plot_bgcolor": "#FFFFFF",
          "xaxis": {
           "range": [
            0,
            13890.63096
           ],
           "showline": true,
           "visible": true
          },
          "yaxis": {
           "showline": false,
           "visible": true
          }
         },
         "name": "2016"
        },
        {
         "data": [
          {
           "cliponaxis": false,
           "hoverinfo": "all",
           "hovertemplate": "<extra></extra>",
           "marker": {
            "color": [
             "rgb(185, 19, 87)",
             "rgb(134, 232, 146)",
             "rgb(164, 54, 99)",
             "rgb(75, 145, 197)",
             "rgb(64, 226, 180)",
             "rgb(248, 222, 127)",
             "rgb(70, 215, 100)",
             "rgb(58, 104, 173)",
             "rgb(19, 139, 167)"
            ]
           },
           "orientation": "h",
           "textangle": 0,
           "textposition": "outside",
           "texttemplate": "%{y}<br>%{x:.4s}",
           "type": "bar",
           "x": [
            844.3693648,
            1242.769643,
            1916.764642,
            3509.64734,
            4041.995021,
            4147.089716,
            5785.670673,
            6354.53283,
            9247.581331
           ],
           "y": [
            "Tajikistan",
            "Kyrgyz Republic",
            "Uzbekistan",
            "Moldova",
            "Armenia",
            "Azerbaijan",
            "Belarus",
            "Turkmenistan",
            "Kazakhstan"
           ]
          }
         ],
         "layout": {
          "bargap": 0.15,
          "font": {
           "size": 14
          },
          "plot_bgcolor": "#FFFFFF",
          "xaxis": {
           "range": [
            0,
            13890.63096
           ],
           "showline": true,
           "visible": true
          },
          "yaxis": {
           "showline": false,
           "visible": true
          }
         },
         "name": "2017"
        },
        {
         "data": [
          {
           "cliponaxis": false,
           "hoverinfo": "all",
           "hovertemplate": "<extra></extra>",
           "marker": {
            "color": [
             "rgb(185, 19, 87)",
             "rgb(134, 232, 146)",
             "rgb(164, 54, 99)",
             "rgb(75, 145, 197)",
             "rgb(64, 226, 180)",
             "rgb(248, 222, 127)",
             "rgb(70, 215, 100)",
             "rgb(58, 104, 173)",
             "rgb(19, 139, 167)"
            ]
           },
           "orientation": "h",
           "textangle": 0,
           "textposition": "outside",
           "texttemplate": "%{y}<br>%{x:.4s}",
           "type": "bar",
           "x": [
            850.6685075,
            1308.140165,
            1597.068337,
            4232.206888,
            4391.923697,
            4739.84171,
            6360.062473,
            6721.34954,
            9812.626371
           ],
           "y": [
            "Tajikistan",
            "Kyrgyz Republic",
            "Uzbekistan",
            "Moldova",
            "Armenia",
            "Azerbaijan",
            "Belarus",
            "Turkmenistan",
            "Kazakhstan"
           ]
          }
         ],
         "layout": {
          "bargap": 0.15,
          "font": {
           "size": 14
          },
          "plot_bgcolor": "#FFFFFF",
          "xaxis": {
           "range": [
            0,
            13890.63096
           ],
           "showline": true,
           "visible": true
          },
          "yaxis": {
           "showline": false,
           "visible": true
          }
         },
         "name": "2018"
        },
        {
         "data": [
          {
           "cliponaxis": false,
           "hoverinfo": "all",
           "hovertemplate": "<extra></extra>",
           "marker": {
            "color": [
             "rgb(185, 19, 87)",
             "rgb(134, 232, 146)",
             "rgb(164, 54, 99)",
             "rgb(75, 145, 197)",
             "rgb(248, 222, 127)",
             "rgb(64, 226, 180)",
             "rgb(70, 215, 100)",
             "rgb(58, 104, 173)",
             "rgb(19, 139, 167)"
            ]
           },
           "orientation": "h",
           "textangle": 0,
           "textposition": "outside",
           "texttemplate": "%{y}<br>%{x:.4s}",
           "type": "bar",
           "x": [
            889.0202624,
            1374.032105,
            1784.009816,
            4493.370303,
            4805.753718,
            4828.505178,
            6837.717826,
            7344.648233,
            9812.595808
           ],
           "y": [
            "Tajikistan",
            "Kyrgyz Republic",
            "Uzbekistan",
            "Moldova",
            "Azerbaijan",
            "Armenia",
            "Belarus",
            "Turkmenistan",
            "Kazakhstan"
           ]
          }
         ],
         "layout": {
          "bargap": 0.15,
          "font": {
           "size": 14
          },
          "plot_bgcolor": "#FFFFFF",
          "xaxis": {
           "range": [
            0,
            13890.63096
           ],
           "showline": true,
           "visible": true
          },
          "yaxis": {
           "showline": false,
           "visible": true
          }
         },
         "name": "2019"
        },
        {
         "data": [
          {
           "cliponaxis": false,
           "hoverinfo": "all",
           "hovertemplate": "<extra></extra>",
           "marker": {
            "color": [
             "rgb(58, 104, 173)",
             "rgb(185, 19, 87)",
             "rgb(134, 232, 146)",
             "rgb(164, 54, 99)",
             "rgb(248, 222, 127)",
             "rgb(75, 145, 197)",
             "rgb(64, 226, 180)",
             "rgb(70, 215, 100)",
             "rgb(19, 139, 167)"
            ]
           },
           "orientation": "h",
           "textangle": 0,
           "textposition": "outside",
           "texttemplate": "%{y}<br>%{x:.4s}",
           "type": "bar",
           "x": [
            0,
            852.3336702,
            1182.5217,
            1749.655815,
            4229.910649,
            4500.624464,
            4505.867364,
            6542.797491,
            9121.637138
           ],
           "y": [
            "Turkmenistan",
            "Tajikistan",
            "Kyrgyz Republic",
            "Uzbekistan",
            "Azerbaijan",
            "Moldova",
            "Armenia",
            "Belarus",
            "Kazakhstan"
           ]
          }
         ],
         "layout": {
          "bargap": 0.15,
          "font": {
           "size": 14
          },
          "plot_bgcolor": "#FFFFFF",
          "xaxis": {
           "range": [
            0,
            13890.63096
           ],
           "showline": true,
           "visible": true
          },
          "yaxis": {
           "showline": false,
           "visible": true
          }
         },
         "name": "2020"
        },
        {
         "data": [
          {
           "cliponaxis": false,
           "hoverinfo": "all",
           "hovertemplate": "<extra></extra>",
           "marker": {
            "color": [
             "rgb(58, 104, 173)",
             "rgb(185, 19, 87)",
             "rgb(134, 232, 146)",
             "rgb(164, 54, 99)",
             "rgb(64, 226, 180)",
             "rgb(75, 145, 197)",
             "rgb(248, 222, 127)",
             "rgb(70, 215, 100)",
             "rgb(19, 139, 167)"
            ]
           },
           "orientation": "h",
           "textangle": 0,
           "textposition": "outside",
           "texttemplate": "%{y}<br>%{x:.4s}",
           "type": "bar",
           "x": [
            0,
            897.0475103,
            1276.700365,
            1983.064723,
            4966.513471,
            5230.661733,
            5387.997975,
            7302.257794,
            10373.78979
           ],
           "y": [
            "Turkmenistan",
            "Tajikistan",
            "Kyrgyz Republic",
            "Uzbekistan",
            "Armenia",
            "Moldova",
            "Azerbaijan",
            "Belarus",
            "Kazakhstan"
           ]
          }
         ],
         "layout": {
          "bargap": 0.15,
          "font": {
           "size": 14
          },
          "plot_bgcolor": "#FFFFFF",
          "xaxis": {
           "range": [
            0,
            13890.63096
           ],
           "showline": true,
           "visible": true
          },
          "yaxis": {
           "showline": false,
           "visible": true
          }
         },
         "name": "2021"
        }
       ],
       "layout": {
        "bargap": 0.15,
        "font": {
         "size": 14
        },
        "paper_bgcolor": "#f8f9fa",
        "plot_bgcolor": "#f8f9fa",
        "showlegend": false,
        "sliders": [
         {
          "active": 0,
          "currentvalue": {
           "font": {
            "size": 20
           },
           "prefix": "Date: ",
           "visible": true,
           "xanchor": "right"
          },
          "len": 0.9,
          "pad": {
           "b": 10,
           "t": 50
          },
          "steps": [
           {
            "args": [
             [
              "1993"
             ],
             {
              "frame": {
               "duration": 800,
               "redraw": false
              },
              "mode": "immediate",
              "transition": {
               "duration": 800
              }
             }
            ],
            "label": "1993",
            "method": "animate"
           },
           {
            "args": [
             [
              "1994"
             ],
             {
              "frame": {
               "duration": 800,
               "redraw": false
              },
              "mode": "immediate",
              "transition": {
               "duration": 800
              }
             }
            ],
            "label": "1994",
            "method": "animate"
           },
           {
            "args": [
             [
              "1995"
             ],
             {
              "frame": {
               "duration": 800,
               "redraw": false
              },
              "mode": "immediate",
              "transition": {
               "duration": 800
              }
             }
            ],
            "label": "1995",
            "method": "animate"
           },
           {
            "args": [
             [
              "1996"
             ],
             {
              "frame": {
               "duration": 800,
               "redraw": false
              },
              "mode": "immediate",
              "transition": {
               "duration": 800
              }
             }
            ],
            "label": "1996",
            "method": "animate"
           },
           {
            "args": [
             [
              "1997"
             ],
             {
              "frame": {
               "duration": 800,
               "redraw": false
              },
              "mode": "immediate",
              "transition": {
               "duration": 800
              }
             }
            ],
            "label": "1997",
            "method": "animate"
           },
           {
            "args": [
             [
              "1998"
             ],
             {
              "frame": {
               "duration": 800,
               "redraw": false
              },
              "mode": "immediate",
              "transition": {
               "duration": 800
              }
             }
            ],
            "label": "1998",
            "method": "animate"
           },
           {
            "args": [
             [
              "1999"
             ],
             {
              "frame": {
               "duration": 800,
               "redraw": false
              },
              "mode": "immediate",
              "transition": {
               "duration": 800
              }
             }
            ],
            "label": "1999",
            "method": "animate"
           },
           {
            "args": [
             [
              "2000"
             ],
             {
              "frame": {
               "duration": 800,
               "redraw": false
              },
              "mode": "immediate",
              "transition": {
               "duration": 800
              }
             }
            ],
            "label": "2000",
            "method": "animate"
           },
           {
            "args": [
             [
              "2001"
             ],
             {
              "frame": {
               "duration": 800,
               "redraw": false
              },
              "mode": "immediate",
              "transition": {
               "duration": 800
              }
             }
            ],
            "label": "2001",
            "method": "animate"
           },
           {
            "args": [
             [
              "2002"
             ],
             {
              "frame": {
               "duration": 800,
               "redraw": false
              },
              "mode": "immediate",
              "transition": {
               "duration": 800
              }
             }
            ],
            "label": "2002",
            "method": "animate"
           },
           {
            "args": [
             [
              "2003"
             ],
             {
              "frame": {
               "duration": 800,
               "redraw": false
              },
              "mode": "immediate",
              "transition": {
               "duration": 800
              }
             }
            ],
            "label": "2003",
            "method": "animate"
           },
           {
            "args": [
             [
              "2004"
             ],
             {
              "frame": {
               "duration": 800,
               "redraw": false
              },
              "mode": "immediate",
              "transition": {
               "duration": 800
              }
             }
            ],
            "label": "2004",
            "method": "animate"
           },
           {
            "args": [
             [
              "2005"
             ],
             {
              "frame": {
               "duration": 800,
               "redraw": false
              },
              "mode": "immediate",
              "transition": {
               "duration": 800
              }
             }
            ],
            "label": "2005",
            "method": "animate"
           },
           {
            "args": [
             [
              "2006"
             ],
             {
              "frame": {
               "duration": 800,
               "redraw": false
              },
              "mode": "immediate",
              "transition": {
               "duration": 800
              }
             }
            ],
            "label": "2006",
            "method": "animate"
           },
           {
            "args": [
             [
              "2007"
             ],
             {
              "frame": {
               "duration": 800,
               "redraw": false
              },
              "mode": "immediate",
              "transition": {
               "duration": 800
              }
             }
            ],
            "label": "2007",
            "method": "animate"
           },
           {
            "args": [
             [
              "2008"
             ],
             {
              "frame": {
               "duration": 800,
               "redraw": false
              },
              "mode": "immediate",
              "transition": {
               "duration": 800
              }
             }
            ],
            "label": "2008",
            "method": "animate"
           },
           {
            "args": [
             [
              "2009"
             ],
             {
              "frame": {
               "duration": 800,
               "redraw": false
              },
              "mode": "immediate",
              "transition": {
               "duration": 800
              }
             }
            ],
            "label": "2009",
            "method": "animate"
           },
           {
            "args": [
             [
              "2010"
             ],
             {
              "frame": {
               "duration": 800,
               "redraw": false
              },
              "mode": "immediate",
              "transition": {
               "duration": 800
              }
             }
            ],
            "label": "2010",
            "method": "animate"
           },
           {
            "args": [
             [
              "2011"
             ],
             {
              "frame": {
               "duration": 800,
               "redraw": false
              },
              "mode": "immediate",
              "transition": {
               "duration": 800
              }
             }
            ],
            "label": "2011",
            "method": "animate"
           },
           {
            "args": [
             [
              "2012"
             ],
             {
              "frame": {
               "duration": 800,
               "redraw": false
              },
              "mode": "immediate",
              "transition": {
               "duration": 800
              }
             }
            ],
            "label": "2012",
            "method": "animate"
           },
           {
            "args": [
             [
              "2013"
             ],
             {
              "frame": {
               "duration": 800,
               "redraw": false
              },
              "mode": "immediate",
              "transition": {
               "duration": 800
              }
             }
            ],
            "label": "2013",
            "method": "animate"
           },
           {
            "args": [
             [
              "2014"
             ],
             {
              "frame": {
               "duration": 800,
               "redraw": false
              },
              "mode": "immediate",
              "transition": {
               "duration": 800
              }
             }
            ],
            "label": "2014",
            "method": "animate"
           },
           {
            "args": [
             [
              "2015"
             ],
             {
              "frame": {
               "duration": 800,
               "redraw": false
              },
              "mode": "immediate",
              "transition": {
               "duration": 800
              }
             }
            ],
            "label": "2015",
            "method": "animate"
           },
           {
            "args": [
             [
              "2016"
             ],
             {
              "frame": {
               "duration": 800,
               "redraw": false
              },
              "mode": "immediate",
              "transition": {
               "duration": 800
              }
             }
            ],
            "label": "2016",
            "method": "animate"
           },
           {
            "args": [
             [
              "2017"
             ],
             {
              "frame": {
               "duration": 800,
               "redraw": false
              },
              "mode": "immediate",
              "transition": {
               "duration": 800
              }
             }
            ],
            "label": "2017",
            "method": "animate"
           },
           {
            "args": [
             [
              "2018"
             ],
             {
              "frame": {
               "duration": 800,
               "redraw": false
              },
              "mode": "immediate",
              "transition": {
               "duration": 800
              }
             }
            ],
            "label": "2018",
            "method": "animate"
           },
           {
            "args": [
             [
              "2019"
             ],
             {
              "frame": {
               "duration": 800,
               "redraw": false
              },
              "mode": "immediate",
              "transition": {
               "duration": 800
              }
             }
            ],
            "label": "2019",
            "method": "animate"
           },
           {
            "args": [
             [
              "2020"
             ],
             {
              "frame": {
               "duration": 800,
               "redraw": false
              },
              "mode": "immediate",
              "transition": {
               "duration": 800
              }
             }
            ],
            "label": "2020",
            "method": "animate"
           },
           {
            "args": [
             [
              "2021"
             ],
             {
              "frame": {
               "duration": 800,
               "redraw": false
              },
              "mode": "immediate",
              "transition": {
               "duration": 800
              }
             }
            ],
            "label": "2021",
            "method": "animate"
           }
          ],
          "transition": {
           "duration": 300,
           "easing": "cubic-in-out"
          },
          "x": 0.1,
          "xanchor": "left",
          "y": 0,
          "yanchor": "top"
         }
        ],
        "template": {
         "data": {
          "bar": [
           {
            "error_x": {
             "color": "#2a3f5f"
            },
            "error_y": {
             "color": "#2a3f5f"
            },
            "marker": {
             "line": {
              "color": "#E5ECF6",
              "width": 0.5
             },
             "pattern": {
              "fillmode": "overlay",
              "size": 10,
              "solidity": 0.2
             }
            },
            "type": "bar"
           }
          ],
          "barpolar": [
           {
            "marker": {
             "line": {
              "color": "#E5ECF6",
              "width": 0.5
             },
             "pattern": {
              "fillmode": "overlay",
              "size": 10,
              "solidity": 0.2
             }
            },
            "type": "barpolar"
           }
          ],
          "carpet": [
           {
            "aaxis": {
             "endlinecolor": "#2a3f5f",
             "gridcolor": "white",
             "linecolor": "white",
             "minorgridcolor": "white",
             "startlinecolor": "#2a3f5f"
            },
            "baxis": {
             "endlinecolor": "#2a3f5f",
             "gridcolor": "white",
             "linecolor": "white",
             "minorgridcolor": "white",
             "startlinecolor": "#2a3f5f"
            },
            "type": "carpet"
           }
          ],
          "choropleth": [
           {
            "colorbar": {
             "outlinewidth": 0,
             "ticks": ""
            },
            "type": "choropleth"
           }
          ],
          "contour": [
           {
            "colorbar": {
             "outlinewidth": 0,
             "ticks": ""
            },
            "colorscale": [
             [
              0,
              "#0d0887"
             ],
             [
              0.1111111111111111,
              "#46039f"
             ],
             [
              0.2222222222222222,
              "#7201a8"
             ],
             [
              0.3333333333333333,
              "#9c179e"
             ],
             [
              0.4444444444444444,
              "#bd3786"
             ],
             [
              0.5555555555555556,
              "#d8576b"
             ],
             [
              0.6666666666666666,
              "#ed7953"
             ],
             [
              0.7777777777777778,
              "#fb9f3a"
             ],
             [
              0.8888888888888888,
              "#fdca26"
             ],
             [
              1,
              "#f0f921"
             ]
            ],
            "type": "contour"
           }
          ],
          "contourcarpet": [
           {
            "colorbar": {
             "outlinewidth": 0,
             "ticks": ""
            },
            "type": "contourcarpet"
           }
          ],
          "heatmap": [
           {
            "colorbar": {
             "outlinewidth": 0,
             "ticks": ""
            },
            "colorscale": [
             [
              0,
              "#0d0887"
             ],
             [
              0.1111111111111111,
              "#46039f"
             ],
             [
              0.2222222222222222,
              "#7201a8"
             ],
             [
              0.3333333333333333,
              "#9c179e"
             ],
             [
              0.4444444444444444,
              "#bd3786"
             ],
             [
              0.5555555555555556,
              "#d8576b"
             ],
             [
              0.6666666666666666,
              "#ed7953"
             ],
             [
              0.7777777777777778,
              "#fb9f3a"
             ],
             [
              0.8888888888888888,
              "#fdca26"
             ],
             [
              1,
              "#f0f921"
             ]
            ],
            "type": "heatmap"
           }
          ],
          "heatmapgl": [
           {
            "colorbar": {
             "outlinewidth": 0,
             "ticks": ""
            },
            "colorscale": [
             [
              0,
              "#0d0887"
             ],
             [
              0.1111111111111111,
              "#46039f"
             ],
             [
              0.2222222222222222,
              "#7201a8"
             ],
             [
              0.3333333333333333,
              "#9c179e"
             ],
             [
              0.4444444444444444,
              "#bd3786"
             ],
             [
              0.5555555555555556,
              "#d8576b"
             ],
             [
              0.6666666666666666,
              "#ed7953"
             ],
             [
              0.7777777777777778,
              "#fb9f3a"
             ],
             [
              0.8888888888888888,
              "#fdca26"
             ],
             [
              1,
              "#f0f921"
             ]
            ],
            "type": "heatmapgl"
           }
          ],
          "histogram": [
           {
            "marker": {
             "pattern": {
              "fillmode": "overlay",
              "size": 10,
              "solidity": 0.2
             }
            },
            "type": "histogram"
           }
          ],
          "histogram2d": [
           {
            "colorbar": {
             "outlinewidth": 0,
             "ticks": ""
            },
            "colorscale": [
             [
              0,
              "#0d0887"
             ],
             [
              0.1111111111111111,
              "#46039f"
             ],
             [
              0.2222222222222222,
              "#7201a8"
             ],
             [
              0.3333333333333333,
              "#9c179e"
             ],
             [
              0.4444444444444444,
              "#bd3786"
             ],
             [
              0.5555555555555556,
              "#d8576b"
             ],
             [
              0.6666666666666666,
              "#ed7953"
             ],
             [
              0.7777777777777778,
              "#fb9f3a"
             ],
             [
              0.8888888888888888,
              "#fdca26"
             ],
             [
              1,
              "#f0f921"
             ]
            ],
            "type": "histogram2d"
           }
          ],
          "histogram2dcontour": [
           {
            "colorbar": {
             "outlinewidth": 0,
             "ticks": ""
            },
            "colorscale": [
             [
              0,
              "#0d0887"
             ],
             [
              0.1111111111111111,
              "#46039f"
             ],
             [
              0.2222222222222222,
              "#7201a8"
             ],
             [
              0.3333333333333333,
              "#9c179e"
             ],
             [
              0.4444444444444444,
              "#bd3786"
             ],
             [
              0.5555555555555556,
              "#d8576b"
             ],
             [
              0.6666666666666666,
              "#ed7953"
             ],
             [
              0.7777777777777778,
              "#fb9f3a"
             ],
             [
              0.8888888888888888,
              "#fdca26"
             ],
             [
              1,
              "#f0f921"
             ]
            ],
            "type": "histogram2dcontour"
           }
          ],
          "mesh3d": [
           {
            "colorbar": {
             "outlinewidth": 0,
             "ticks": ""
            },
            "type": "mesh3d"
           }
          ],
          "parcoords": [
           {
            "line": {
             "colorbar": {
              "outlinewidth": 0,
              "ticks": ""
             }
            },
            "type": "parcoords"
           }
          ],
          "pie": [
           {
            "automargin": true,
            "type": "pie"
           }
          ],
          "scatter": [
           {
            "fillpattern": {
             "fillmode": "overlay",
             "size": 10,
             "solidity": 0.2
            },
            "type": "scatter"
           }
          ],
          "scatter3d": [
           {
            "line": {
             "colorbar": {
              "outlinewidth": 0,
              "ticks": ""
             }
            },
            "marker": {
             "colorbar": {
              "outlinewidth": 0,
              "ticks": ""
             }
            },
            "type": "scatter3d"
           }
          ],
          "scattercarpet": [
           {
            "marker": {
             "colorbar": {
              "outlinewidth": 0,
              "ticks": ""
             }
            },
            "type": "scattercarpet"
           }
          ],
          "scattergeo": [
           {
            "marker": {
             "colorbar": {
              "outlinewidth": 0,
              "ticks": ""
             }
            },
            "type": "scattergeo"
           }
          ],
          "scattergl": [
           {
            "marker": {
             "colorbar": {
              "outlinewidth": 0,
              "ticks": ""
             }
            },
            "type": "scattergl"
           }
          ],
          "scattermapbox": [
           {
            "marker": {
             "colorbar": {
              "outlinewidth": 0,
              "ticks": ""
             }
            },
            "type": "scattermapbox"
           }
          ],
          "scatterpolar": [
           {
            "marker": {
             "colorbar": {
              "outlinewidth": 0,
              "ticks": ""
             }
            },
            "type": "scatterpolar"
           }
          ],
          "scatterpolargl": [
           {
            "marker": {
             "colorbar": {
              "outlinewidth": 0,
              "ticks": ""
             }
            },
            "type": "scatterpolargl"
           }
          ],
          "scatterternary": [
           {
            "marker": {
             "colorbar": {
              "outlinewidth": 0,
              "ticks": ""
             }
            },
            "type": "scatterternary"
           }
          ],
          "surface": [
           {
            "colorbar": {
             "outlinewidth": 0,
             "ticks": ""
            },
            "colorscale": [
             [
              0,
              "#0d0887"
             ],
             [
              0.1111111111111111,
              "#46039f"
             ],
             [
              0.2222222222222222,
              "#7201a8"
             ],
             [
              0.3333333333333333,
              "#9c179e"
             ],
             [
              0.4444444444444444,
              "#bd3786"
             ],
             [
              0.5555555555555556,
              "#d8576b"
             ],
             [
              0.6666666666666666,
              "#ed7953"
             ],
             [
              0.7777777777777778,
              "#fb9f3a"
             ],
             [
              0.8888888888888888,
              "#fdca26"
             ],
             [
              1,
              "#f0f921"
             ]
            ],
            "type": "surface"
           }
          ],
          "table": [
           {
            "cells": {
             "fill": {
              "color": "#EBF0F8"
             },
             "line": {
              "color": "white"
             }
            },
            "header": {
             "fill": {
              "color": "#C8D4E3"
             },
             "line": {
              "color": "white"
             }
            },
            "type": "table"
           }
          ]
         },
         "layout": {
          "annotationdefaults": {
           "arrowcolor": "#2a3f5f",
           "arrowhead": 0,
           "arrowwidth": 1
          },
          "autotypenumbers": "strict",
          "coloraxis": {
           "colorbar": {
            "outlinewidth": 0,
            "ticks": ""
           }
          },
          "colorscale": {
           "diverging": [
            [
             0,
             "#8e0152"
            ],
            [
             0.1,
             "#c51b7d"
            ],
            [
             0.2,
             "#de77ae"
            ],
            [
             0.3,
             "#f1b6da"
            ],
            [
             0.4,
             "#fde0ef"
            ],
            [
             0.5,
             "#f7f7f7"
            ],
            [
             0.6,
             "#e6f5d0"
            ],
            [
             0.7,
             "#b8e186"
            ],
            [
             0.8,
             "#7fbc41"
            ],
            [
             0.9,
             "#4d9221"
            ],
            [
             1,
             "#276419"
            ]
           ],
           "sequential": [
            [
             0,
             "#0d0887"
            ],
            [
             0.1111111111111111,
             "#46039f"
            ],
            [
             0.2222222222222222,
             "#7201a8"
            ],
            [
             0.3333333333333333,
             "#9c179e"
            ],
            [
             0.4444444444444444,
             "#bd3786"
            ],
            [
             0.5555555555555556,
             "#d8576b"
            ],
            [
             0.6666666666666666,
             "#ed7953"
            ],
            [
             0.7777777777777778,
             "#fb9f3a"
            ],
            [
             0.8888888888888888,
             "#fdca26"
            ],
            [
             1,
             "#f0f921"
            ]
           ],
           "sequentialminus": [
            [
             0,
             "#0d0887"
            ],
            [
             0.1111111111111111,
             "#46039f"
            ],
            [
             0.2222222222222222,
             "#7201a8"
            ],
            [
             0.3333333333333333,
             "#9c179e"
            ],
            [
             0.4444444444444444,
             "#bd3786"
            ],
            [
             0.5555555555555556,
             "#d8576b"
            ],
            [
             0.6666666666666666,
             "#ed7953"
            ],
            [
             0.7777777777777778,
             "#fb9f3a"
            ],
            [
             0.8888888888888888,
             "#fdca26"
            ],
            [
             1,
             "#f0f921"
            ]
           ]
          },
          "colorway": [
           "#636efa",
           "#EF553B",
           "#00cc96",
           "#ab63fa",
           "#FFA15A",
           "#19d3f3",
           "#FF6692",
           "#B6E880",
           "#FF97FF",
           "#FECB52"
          ],
          "font": {
           "color": "#2a3f5f"
          },
          "geo": {
           "bgcolor": "white",
           "lakecolor": "white",
           "landcolor": "#E5ECF6",
           "showlakes": true,
           "showland": true,
           "subunitcolor": "white"
          },
          "hoverlabel": {
           "align": "left"
          },
          "hovermode": "closest",
          "mapbox": {
           "style": "light"
          },
          "paper_bgcolor": "white",
          "plot_bgcolor": "#E5ECF6",
          "polar": {
           "angularaxis": {
            "gridcolor": "white",
            "linecolor": "white",
            "ticks": ""
           },
           "bgcolor": "#E5ECF6",
           "radialaxis": {
            "gridcolor": "white",
            "linecolor": "white",
            "ticks": ""
           }
          },
          "scene": {
           "xaxis": {
            "backgroundcolor": "#E5ECF6",
            "gridcolor": "white",
            "gridwidth": 2,
            "linecolor": "white",
            "showbackground": true,
            "ticks": "",
            "zerolinecolor": "white"
           },
           "yaxis": {
            "backgroundcolor": "#E5ECF6",
            "gridcolor": "white",
            "gridwidth": 2,
            "linecolor": "white",
            "showbackground": true,
            "ticks": "",
            "zerolinecolor": "white"
           },
           "zaxis": {
            "backgroundcolor": "#E5ECF6",
            "gridcolor": "white",
            "gridwidth": 2,
            "linecolor": "white",
            "showbackground": true,
            "ticks": "",
            "zerolinecolor": "white"
           }
          },
          "shapedefaults": {
           "line": {
            "color": "#2a3f5f"
           }
          },
          "ternary": {
           "aaxis": {
            "gridcolor": "white",
            "linecolor": "white",
            "ticks": ""
           },
           "baxis": {
            "gridcolor": "white",
            "linecolor": "white",
            "ticks": ""
           },
           "bgcolor": "#E5ECF6",
           "caxis": {
            "gridcolor": "white",
            "linecolor": "white",
            "ticks": ""
           }
          },
          "title": {
           "x": 0.05
          },
          "xaxis": {
           "automargin": true,
           "gridcolor": "white",
           "linecolor": "white",
           "ticks": "",
           "title": {
            "standoff": 15
           },
           "zerolinecolor": "white",
           "zerolinewidth": 2
          },
          "yaxis": {
           "automargin": true,
           "gridcolor": "white",
           "linecolor": "white",
           "ticks": "",
           "title": {
            "standoff": 15
           },
           "zerolinecolor": "white",
           "zerolinewidth": 2
          }
         }
        },
        "title": {
         "text": "GDP Per Capita for CIS Countries (1993-2023)",
         "x": 0.5,
         "xanchor": "center",
         "y": 0.95,
         "yanchor": "top"
        },
        "updatemenus": [
         {
          "buttons": [
           {
            "args": [
             null,
             {
              "frame": {
               "duration": 800,
               "redraw": false
              },
              "fromcurrent": true,
              "transition": {
               "duration": 800,
               "easing": "quadratic-in-out"
              }
             }
            ],
            "label": "Play",
            "method": "animate"
           },
           {
            "args": [
             [
              null
             ],
             {
              "frame": {
               "duration": 0,
               "redraw": false
              },
              "mode": "immediate",
              "transition": {
               "duration": 0
              }
             }
            ],
            "label": "Pause",
            "method": "animate"
           }
          ],
          "direction": "left",
          "pad": {
           "r": 10,
           "t": 87
          },
          "showactive": true,
          "type": "buttons",
          "x": 0.1,
          "xanchor": "right",
          "y": 0,
          "yanchor": "top"
         }
        ],
        "xaxis": {
         "range": [
          0,
          13890.63096
         ],
         "showgrid": false,
         "showline": true,
         "showticklabels": true,
         "ticktext": [
          "5k",
          "10k"
         ],
         "tickvals": [
          5000,
          10000
         ],
         "title": {
          "text": "Year"
         },
         "visible": true
        },
        "yaxis": {
         "showline": false,
         "showticklabels": false,
         "title": {
          "text": ""
         },
         "visible": true
        }
       }
      }
     },
     "metadata": {},
     "output_type": "display_data"
    }
   ],
   "source": [
    "import pandas as pd\n",
    "from raceplotly.plots import barplot\n",
    "import plotly.graph_objs as go\n",
    "\n",
    "data = pd.read_csv(r\"C:\\Users\\Vaclav Barina\\Documents\\3. Study\\2. Data Science\\1. Fun Projects\\2023_Racing Bar Chart\\1. Data\\1993-2023_GDP Per Capita for CIS Countries_MELTED.csv\")\n",
    "\n",
    "# Assign a color to each country\n",
    "colors = {\n",
    "    'Azerbaijan': '#0092BC',\n",
    "    'Armenia': '#f2a800',\n",
    "    'Belarus': '#8b0000',\n",
    "    'Kazakhstan': '#00AFCA ',\n",
    "    'Moldova': '#AD7C59',\n",
    "    'Kyrgyz Republic': '#8c564b',\n",
    "    'Tajikistan': '#e377c2',\n",
    "    'Turkmenistan': '#d22630 ',\n",
    "    'Uzbekistan': '#43B02A'\n",
    "}\n",
    "data['Color'] = data['Country Name'].map(colors)\n",
    "\n",
    "my_raceplot = barplot(data,  item_column='Country Name', value_column='Per Capita GDP', time_column='Year')\n",
    "\n",
    "my_raceplot.plot(item_label = 'CIS Countries (Excluding Russia)', value_label = 'Per Capita GDP ($ 2023)', frame_duration = 800)\n",
    "\n",
    "# Customize the chart\n",
    "my_raceplot.fig.update_layout(\n",
    "    title={\n",
    "        'text': 'GDP Per Capita for CIS Countries (1993-2023)',\n",
    "        'x': 0.5,\n",
    "        'y': 0.95,\n",
    "        'xanchor': 'center',\n",
    "        'yanchor': 'top'\n",
    "    },\n",
    "    xaxis=dict(\n",
    "        tickvals=[5000, 10000],\n",
    "        ticktext=[\"5k\",\"10k\"]\n",
    "    ),\n",
    "    xaxis_title=\"Year\",\n",
    "    yaxis_title=\"\",\n",
    "   paper_bgcolor='#f8f9fa',\n",
    "   plot_bgcolor='#f8f9fa',\n",
    "   showlegend=False\n",
    ")\n",
    "\n",
    "my_raceplot.fig.update_layout(xaxis=dict(showgrid=False))\n"
   ]
  }
 ],
 "metadata": {
  "kernelspec": {
   "display_name": "base",
   "language": "python",
   "name": "python3"
  },
  "language_info": {
   "codemirror_mode": {
    "name": "ipython",
    "version": 3
   },
   "file_extension": ".py",
   "mimetype": "text/x-python",
   "name": "python",
   "nbconvert_exporter": "python",
   "pygments_lexer": "ipython3",
   "version": "3.10.9"
  },
  "orig_nbformat": 4
 },
 "nbformat": 4,
 "nbformat_minor": 2
}
